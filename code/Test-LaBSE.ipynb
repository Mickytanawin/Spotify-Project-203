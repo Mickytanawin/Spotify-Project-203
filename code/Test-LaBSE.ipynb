{
 "cells": [
  {
   "cell_type": "code",
   "execution_count": 7,
   "metadata": {},
   "outputs": [],
   "source": [
    "import numpy as np\n",
    "import pandas as pd\n",
    "import torch\n",
    "from sentence_transformers import SentenceTransformer"
   ]
  },
  {
   "cell_type": "code",
   "execution_count": 8,
   "metadata": {},
   "outputs": [],
   "source": [
    "# Set random seed for everything (except sklearn)\n",
    "RND_SEED: int = 12345\n",
    "np.random.seed(RND_SEED) # for numpy, scipy\n",
    "pd.core.common.random_state(RND_SEED) # for pandas\n",
    "torch.set_default_device(\"cuda\")\n",
    "torch.manual_seed(RND_SEED)\n",
    "\n",
    "# Resolution for graph images\n",
    "WIDTH: int = 1366\n",
    "HEIGHT: int = 768"
   ]
  },
  {
   "cell_type": "code",
   "execution_count": 9,
   "metadata": {},
   "outputs": [],
   "source": [
    "df = pd.read_csv(\"./../data/Combined-2023.csv\", encoding=\"utf-8\", index_col=[0])\n",
    "df[\"track_name\"] = df[\"track_name\"].astype(\"string\")\n",
    "df[\"streams\"] = df[\"streams\"].astype(str).apply(lambda x: float(x) / 1e6 if x.isdigit() else np.nan)\n",
    "df[\"in_deezer_playlists\"] = df[\"in_deezer_playlists\"].astype(str).apply(lambda x: float(x.replace(\",\", \"\")) / 1000)\n",
    "df[\"in_shazam_charts\"] = df[\"in_shazam_charts\"].astype(str).apply(\n",
    "    lambda x: int(float(x.replace(\",\", \"\"))) if x.isdigit() else pd.NA\n",
    ").astype(\"Int64\")\n",
    "df[\"key\"] = df[\"key\"].astype(\"category\")\n",
    "df[\"mode\"] = df[\"mode\"].astype(\"category\")"
   ]
  },
  {
   "cell_type": "code",
   "execution_count": 10,
   "metadata": {},
   "outputs": [
    {
     "name": "stderr",
     "output_type": "stream",
     "text": [
      "/home/micky2404/anaconda3/envs/py310/lib/python3.10/site-packages/transformers/tokenization_utils_base.py:1617: FutureWarning: `clean_up_tokenization_spaces` was not set. It will be set to `True` by default. This behavior will be deprecated in transformers v4.45, and will be then set to `False` by default. For more details check this issue: https://github.com/huggingface/transformers/issues/31884\n",
      "  warnings.warn(\n"
     ]
    }
   ],
   "source": [
    "model = SentenceTransformer(\"sentence-transformers/LaBSE\", device=\"cuda\")"
   ]
  },
  {
   "cell_type": "code",
   "execution_count": 5,
   "metadata": {},
   "outputs": [],
   "source": [
    "res = pd.DataFrame(model.encode(df.loc[:, \"track_name\"]))\n",
    "res.to_csv(\"./../data/WordEmb-Name-2023.csv\", encoding=\"utf-8\", index=False)"
   ]
  },
  {
   "cell_type": "code",
   "execution_count": 12,
   "metadata": {},
   "outputs": [],
   "source": [
    "word_list: list[str] = [\"love\", \"hurt\", \"goodbye\", \"friend\", \"hopeless\", \"memory\", \"play\", \"sad\"]\n",
    "res = pd.DataFrame(model.encode(word_list))\n",
    "res.index = word_list\n",
    "res.to_csv(\"./../data/WordList.csv\", encoding=\"utf-8\")"
   ]
  }
 ],
 "metadata": {
  "kernelspec": {
   "display_name": "py310",
   "language": "python",
   "name": "python3"
  },
  "language_info": {
   "codemirror_mode": {
    "name": "ipython",
    "version": 3
   },
   "file_extension": ".py",
   "mimetype": "text/x-python",
   "name": "python",
   "nbconvert_exporter": "python",
   "pygments_lexer": "ipython3",
   "version": "3.10.14"
  }
 },
 "nbformat": 4,
 "nbformat_minor": 2
}
