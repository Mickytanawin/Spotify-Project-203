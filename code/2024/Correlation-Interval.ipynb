{
 "cells": [
  {
   "cell_type": "code",
   "execution_count": 1,
   "metadata": {},
   "outputs": [],
   "source": [
    "import numpy as np\n",
    "import pandas as pd\n",
    "import pyarrow as pa\n",
    "import plotly.express as px\n",
    "import plotly.graph_objects as go"
   ]
  },
  {
   "cell_type": "code",
   "execution_count": 2,
   "metadata": {},
   "outputs": [],
   "source": [
    "# Set random seed for everything (except sklearn)\n",
    "RND_SEED: int = 12345\n",
    "np.random.seed(RND_SEED) # for numpy, scipy\n",
    "pd.core.common.random_state(RND_SEED) # for pandas\n",
    "\n",
    "# Resolution for graph images\n",
    "WIDTH: int = 1366\n",
    "HEIGHT: int = 768"
   ]
  },
  {
   "cell_type": "code",
   "execution_count": 3,
   "metadata": {},
   "outputs": [],
   "source": [
    "df = pd.read_csv(\"./../../data/Combined-2024.csv\", encoding=\"utf-8\", index_col=[0])\n",
    "df[\"Spotify Streams\"] = df[\"Spotify Streams\"].astype(str).apply(\n",
    "    lambda x: float(x.replace(\",\", \"\")) / 1e6 if x.replace(\",\", \"\").isdigit() else np.nan\n",
    ")\n",
    "df[\"Spotify Playlist Count\"] = df[\"Spotify Playlist Count\"].astype(str).apply(\n",
    "    lambda x: float(x.replace(\",\", \"\")) / 1000 if x.replace(\",\", \"\").isdigit() else np.nan\n",
    ")\n",
    "df[\"Spotify Playlist Reach\"] = df[\"Spotify Playlist Reach\"].astype(str).apply(\n",
    "    lambda x: float(x.replace(\",\", \"\")) / 1e6 if x.replace(\",\", \"\").isdigit() else np.nan\n",
    ")\n",
    "df[\"YouTube Views\"] = df[\"YouTube Views\"].astype(str).apply(\n",
    "    lambda x: float(x.replace(\",\", \"\")) / 1e6 if x.replace(\",\", \"\").isdigit() else np.nan\n",
    ")\n",
    "df[\"YouTube Likes\"] = df[\"YouTube Likes\"].astype(str).apply(\n",
    "    lambda x: float(x.replace(\",\", \"\")) / 1000 if x.replace(\",\", \"\").isdigit() else np.nan\n",
    ")\n",
    "df[\"YouTube Playlist Reach\"] = df[\"YouTube Playlist Reach\"].astype(str).apply(\n",
    "    lambda x: float(x.replace(\",\", \"\")) / 1e6 if x.replace(\",\", \"\").isdigit() else np.nan\n",
    ")\n",
    "df[\"TikTok Posts\"] = df[\"TikTok Posts\"].astype(str).apply(\n",
    "    lambda x: float(x.replace(\",\", \"\")) / 1000 if x.replace(\",\", \"\").isdigit() else np.nan\n",
    ")\n",
    "df[\"TikTok Likes\"] = df[\"TikTok Likes\"].astype(str).apply(\n",
    "    lambda x: float(x.replace(\",\", \"\")) / 1e6 if x.replace(\",\", \"\").isdigit() else np.nan\n",
    ")\n",
    "df[\"TikTok Views\"] = df[\"TikTok Views\"].astype(str).apply(\n",
    "    lambda x: float(x.replace(\",\", \"\")) / 1e9 if x.replace(\",\", \"\").isdigit() else np.nan\n",
    ")\n",
    "df[\"AirPlay Spins\"] = df[\"AirPlay Spins\"].astype(str).apply(\n",
    "    lambda x: float(x.replace(\",\", \"\")) / 1000 if x.replace(\",\", \"\").isdigit() else np.nan\n",
    ")\n",
    "df[\"SiriusXM Spins\"] = df[\"SiriusXM Spins\"].astype(str).apply(\n",
    "    lambda x: float(x.replace(\",\", \"\")) / 1000 if x.replace(\",\", \"\").isdigit() else np.nan\n",
    ")\n",
    "df[\"Deezer Playlist Reach\"] = df[\"Deezer Playlist Reach\"].astype(str).apply(\n",
    "    lambda x: float(x.replace(\",\", \"\")) / 1e6 if x.replace(\",\", \"\").isdigit() else np.nan\n",
    ")\n",
    "df[\"Pandora Streams\"] = df[\"Pandora Streams\"].astype(str).apply(\n",
    "    lambda x: float(x.replace(\",\", \"\")) / 1e6 if x.replace(\",\", \"\").isdigit() else np.nan\n",
    ")\n",
    "df[\"Pandora Track Stations\"] = df[\"Pandora Track Stations\"].astype(str).apply(\n",
    "    lambda x: float(x.replace(\",\", \"\")) / 1000 if x.replace(\",\", \"\").isdigit() else np.nan\n",
    ")\n",
    "df[\"Soundcloud Streams\"] = df[\"Soundcloud Streams\"].astype(str).apply(\n",
    "    lambda x: float(x.replace(\",\", \"\")) / 1e6 if x.replace(\",\", \"\").isdigit() else np.nan\n",
    ")\n",
    "df[\"Shazam Counts\"] = df[\"Shazam Counts\"].astype(str).apply(\n",
    "    lambda x: float(x.replace(\",\", \"\")) / 1e6 if x.replace(\",\", \"\").isdigit() else np.nan\n",
    ")\n",
    "\n",
    "test = df[\"Shazam Counts\"].dropna()\n",
    "# SpoStreams (10**6), SpoPlayCount (10**3), SpoPlayReach (10**6), YouView (10**6), YouLike (10**3), YouPlayReach (10**6),\n",
    "# TikPost (10**3), TikLike (10**6), TikView (10**9), AirSpin (10**3), SiriSpin (10**3), DeePlayReach (10**6),\n",
    "# PanStreams (10**6), PanStation (10**3), SoundStreams (10**6), ShaCount (10**6)"
   ]
  },
  {
   "cell_type": "code",
   "execution_count": 4,
   "metadata": {},
   "outputs": [],
   "source": [
    "# Test for track repition\n",
    "# rep_test = df.sort_values(by=\"track_name\")\n",
    "# rep_i: list[int] = []\n",
    "# for i in range(1, rep_test.shape[0]):\n",
    "#     if rep_test.iloc[i][\"track_name\"] == rep_test.iloc[i - 1][\"track_name\"]:\n",
    "#         rep_i.append(i - 1)\n",
    "#         rep_i.append(i)\n",
    "# del i\n",
    "# rep_test = rep_test.iloc[rep_i]\n",
    "# del rep_test, rep_i"
   ]
  },
  {
   "cell_type": "code",
   "execution_count": 5,
   "metadata": {},
   "outputs": [],
   "source": [
    "# key_list: list[str] = sorted(df[\"key\"].dropna().unique().tolist())\n",
    "# df = pd.get_dummies(df, columns=[\"key\", \"mode\"], dummy_na=True, dtype=\"boolean[pyarrow]\")\n",
    "# df.loc[df[\"key_nan\"], df.columns.str.startswith(\"key_\")] = pd.NA\n",
    "# df.loc[df[\"mode_nan\"], df.columns.str.startswith(\"mode_\")] = pd.NA\n",
    "# df.drop(columns=[\"key_nan\", \"mode_nan\"], inplace=True)"
   ]
  },
  {
   "cell_type": "code",
   "execution_count": 11,
   "metadata": {},
   "outputs": [
    {
     "data": {
      "application/vnd.plotly.v1+json": {
       "config": {
        "plotlyServerURL": "https://plot.ly"
       },
       "data": [
        {
         "coloraxis": "coloraxis",
         "hovertemplate": "x: %{x}<br>y: %{y}<br>color: %{z}<extra></extra>",
         "name": "0",
         "texttemplate": "%{z}",
         "type": "heatmap",
         "x": [
          "Spotify Streams",
          "SiriusXM Spins",
          "Pandora Streams",
          "AirPlay Spins"
         ],
         "xaxis": "x",
         "y": [
          "Spotify Streams",
          "SiriusXM Spins",
          "Pandora Streams",
          "AirPlay Spins"
         ],
         "yaxis": "y",
         "z": [
          [
           1,
           0.17168912277102413,
           0.5305952052800366,
           0.36863860238000656
          ],
          [
           0.17168912277102413,
           1,
           0.16064297421889806,
           0.31067189306588017
          ],
          [
           0.5305952052800366,
           0.16064297421889806,
           1,
           0.3202566166952136
          ],
          [
           0.36863860238000656,
           0.31067189306588017,
           0.3202566166952136,
           1
          ]
         ]
        }
       ],
       "layout": {
        "coloraxis": {
         "colorscale": [
          [
           0,
           "#0d0887"
          ],
          [
           0.1111111111111111,
           "#46039f"
          ],
          [
           0.2222222222222222,
           "#7201a8"
          ],
          [
           0.3333333333333333,
           "#9c179e"
          ],
          [
           0.4444444444444444,
           "#bd3786"
          ],
          [
           0.5555555555555556,
           "#d8576b"
          ],
          [
           0.6666666666666666,
           "#ed7953"
          ],
          [
           0.7777777777777778,
           "#fb9f3a"
          ],
          [
           0.8888888888888888,
           "#fdca26"
          ],
          [
           1,
           "#f0f921"
          ]
         ]
        },
        "margin": {
         "t": 60
        },
        "template": {
         "data": {
          "bar": [
           {
            "error_x": {
             "color": "#2a3f5f"
            },
            "error_y": {
             "color": "#2a3f5f"
            },
            "marker": {
             "line": {
              "color": "#E5ECF6",
              "width": 0.5
             },
             "pattern": {
              "fillmode": "overlay",
              "size": 10,
              "solidity": 0.2
             }
            },
            "type": "bar"
           }
          ],
          "barpolar": [
           {
            "marker": {
             "line": {
              "color": "#E5ECF6",
              "width": 0.5
             },
             "pattern": {
              "fillmode": "overlay",
              "size": 10,
              "solidity": 0.2
             }
            },
            "type": "barpolar"
           }
          ],
          "carpet": [
           {
            "aaxis": {
             "endlinecolor": "#2a3f5f",
             "gridcolor": "white",
             "linecolor": "white",
             "minorgridcolor": "white",
             "startlinecolor": "#2a3f5f"
            },
            "baxis": {
             "endlinecolor": "#2a3f5f",
             "gridcolor": "white",
             "linecolor": "white",
             "minorgridcolor": "white",
             "startlinecolor": "#2a3f5f"
            },
            "type": "carpet"
           }
          ],
          "choropleth": [
           {
            "colorbar": {
             "outlinewidth": 0,
             "ticks": ""
            },
            "type": "choropleth"
           }
          ],
          "contour": [
           {
            "colorbar": {
             "outlinewidth": 0,
             "ticks": ""
            },
            "colorscale": [
             [
              0,
              "#0d0887"
             ],
             [
              0.1111111111111111,
              "#46039f"
             ],
             [
              0.2222222222222222,
              "#7201a8"
             ],
             [
              0.3333333333333333,
              "#9c179e"
             ],
             [
              0.4444444444444444,
              "#bd3786"
             ],
             [
              0.5555555555555556,
              "#d8576b"
             ],
             [
              0.6666666666666666,
              "#ed7953"
             ],
             [
              0.7777777777777778,
              "#fb9f3a"
             ],
             [
              0.8888888888888888,
              "#fdca26"
             ],
             [
              1,
              "#f0f921"
             ]
            ],
            "type": "contour"
           }
          ],
          "contourcarpet": [
           {
            "colorbar": {
             "outlinewidth": 0,
             "ticks": ""
            },
            "type": "contourcarpet"
           }
          ],
          "heatmap": [
           {
            "colorbar": {
             "outlinewidth": 0,
             "ticks": ""
            },
            "colorscale": [
             [
              0,
              "#0d0887"
             ],
             [
              0.1111111111111111,
              "#46039f"
             ],
             [
              0.2222222222222222,
              "#7201a8"
             ],
             [
              0.3333333333333333,
              "#9c179e"
             ],
             [
              0.4444444444444444,
              "#bd3786"
             ],
             [
              0.5555555555555556,
              "#d8576b"
             ],
             [
              0.6666666666666666,
              "#ed7953"
             ],
             [
              0.7777777777777778,
              "#fb9f3a"
             ],
             [
              0.8888888888888888,
              "#fdca26"
             ],
             [
              1,
              "#f0f921"
             ]
            ],
            "type": "heatmap"
           }
          ],
          "heatmapgl": [
           {
            "colorbar": {
             "outlinewidth": 0,
             "ticks": ""
            },
            "colorscale": [
             [
              0,
              "#0d0887"
             ],
             [
              0.1111111111111111,
              "#46039f"
             ],
             [
              0.2222222222222222,
              "#7201a8"
             ],
             [
              0.3333333333333333,
              "#9c179e"
             ],
             [
              0.4444444444444444,
              "#bd3786"
             ],
             [
              0.5555555555555556,
              "#d8576b"
             ],
             [
              0.6666666666666666,
              "#ed7953"
             ],
             [
              0.7777777777777778,
              "#fb9f3a"
             ],
             [
              0.8888888888888888,
              "#fdca26"
             ],
             [
              1,
              "#f0f921"
             ]
            ],
            "type": "heatmapgl"
           }
          ],
          "histogram": [
           {
            "marker": {
             "pattern": {
              "fillmode": "overlay",
              "size": 10,
              "solidity": 0.2
             }
            },
            "type": "histogram"
           }
          ],
          "histogram2d": [
           {
            "colorbar": {
             "outlinewidth": 0,
             "ticks": ""
            },
            "colorscale": [
             [
              0,
              "#0d0887"
             ],
             [
              0.1111111111111111,
              "#46039f"
             ],
             [
              0.2222222222222222,
              "#7201a8"
             ],
             [
              0.3333333333333333,
              "#9c179e"
             ],
             [
              0.4444444444444444,
              "#bd3786"
             ],
             [
              0.5555555555555556,
              "#d8576b"
             ],
             [
              0.6666666666666666,
              "#ed7953"
             ],
             [
              0.7777777777777778,
              "#fb9f3a"
             ],
             [
              0.8888888888888888,
              "#fdca26"
             ],
             [
              1,
              "#f0f921"
             ]
            ],
            "type": "histogram2d"
           }
          ],
          "histogram2dcontour": [
           {
            "colorbar": {
             "outlinewidth": 0,
             "ticks": ""
            },
            "colorscale": [
             [
              0,
              "#0d0887"
             ],
             [
              0.1111111111111111,
              "#46039f"
             ],
             [
              0.2222222222222222,
              "#7201a8"
             ],
             [
              0.3333333333333333,
              "#9c179e"
             ],
             [
              0.4444444444444444,
              "#bd3786"
             ],
             [
              0.5555555555555556,
              "#d8576b"
             ],
             [
              0.6666666666666666,
              "#ed7953"
             ],
             [
              0.7777777777777778,
              "#fb9f3a"
             ],
             [
              0.8888888888888888,
              "#fdca26"
             ],
             [
              1,
              "#f0f921"
             ]
            ],
            "type": "histogram2dcontour"
           }
          ],
          "mesh3d": [
           {
            "colorbar": {
             "outlinewidth": 0,
             "ticks": ""
            },
            "type": "mesh3d"
           }
          ],
          "parcoords": [
           {
            "line": {
             "colorbar": {
              "outlinewidth": 0,
              "ticks": ""
             }
            },
            "type": "parcoords"
           }
          ],
          "pie": [
           {
            "automargin": true,
            "type": "pie"
           }
          ],
          "scatter": [
           {
            "fillpattern": {
             "fillmode": "overlay",
             "size": 10,
             "solidity": 0.2
            },
            "type": "scatter"
           }
          ],
          "scatter3d": [
           {
            "line": {
             "colorbar": {
              "outlinewidth": 0,
              "ticks": ""
             }
            },
            "marker": {
             "colorbar": {
              "outlinewidth": 0,
              "ticks": ""
             }
            },
            "type": "scatter3d"
           }
          ],
          "scattercarpet": [
           {
            "marker": {
             "colorbar": {
              "outlinewidth": 0,
              "ticks": ""
             }
            },
            "type": "scattercarpet"
           }
          ],
          "scattergeo": [
           {
            "marker": {
             "colorbar": {
              "outlinewidth": 0,
              "ticks": ""
             }
            },
            "type": "scattergeo"
           }
          ],
          "scattergl": [
           {
            "marker": {
             "colorbar": {
              "outlinewidth": 0,
              "ticks": ""
             }
            },
            "type": "scattergl"
           }
          ],
          "scattermapbox": [
           {
            "marker": {
             "colorbar": {
              "outlinewidth": 0,
              "ticks": ""
             }
            },
            "type": "scattermapbox"
           }
          ],
          "scatterpolar": [
           {
            "marker": {
             "colorbar": {
              "outlinewidth": 0,
              "ticks": ""
             }
            },
            "type": "scatterpolar"
           }
          ],
          "scatterpolargl": [
           {
            "marker": {
             "colorbar": {
              "outlinewidth": 0,
              "ticks": ""
             }
            },
            "type": "scatterpolargl"
           }
          ],
          "scatterternary": [
           {
            "marker": {
             "colorbar": {
              "outlinewidth": 0,
              "ticks": ""
             }
            },
            "type": "scatterternary"
           }
          ],
          "surface": [
           {
            "colorbar": {
             "outlinewidth": 0,
             "ticks": ""
            },
            "colorscale": [
             [
              0,
              "#0d0887"
             ],
             [
              0.1111111111111111,
              "#46039f"
             ],
             [
              0.2222222222222222,
              "#7201a8"
             ],
             [
              0.3333333333333333,
              "#9c179e"
             ],
             [
              0.4444444444444444,
              "#bd3786"
             ],
             [
              0.5555555555555556,
              "#d8576b"
             ],
             [
              0.6666666666666666,
              "#ed7953"
             ],
             [
              0.7777777777777778,
              "#fb9f3a"
             ],
             [
              0.8888888888888888,
              "#fdca26"
             ],
             [
              1,
              "#f0f921"
             ]
            ],
            "type": "surface"
           }
          ],
          "table": [
           {
            "cells": {
             "fill": {
              "color": "#EBF0F8"
             },
             "line": {
              "color": "white"
             }
            },
            "header": {
             "fill": {
              "color": "#C8D4E3"
             },
             "line": {
              "color": "white"
             }
            },
            "type": "table"
           }
          ]
         },
         "layout": {
          "annotationdefaults": {
           "arrowcolor": "#2a3f5f",
           "arrowhead": 0,
           "arrowwidth": 1
          },
          "autotypenumbers": "strict",
          "coloraxis": {
           "colorbar": {
            "outlinewidth": 0,
            "ticks": ""
           }
          },
          "colorscale": {
           "diverging": [
            [
             0,
             "#8e0152"
            ],
            [
             0.1,
             "#c51b7d"
            ],
            [
             0.2,
             "#de77ae"
            ],
            [
             0.3,
             "#f1b6da"
            ],
            [
             0.4,
             "#fde0ef"
            ],
            [
             0.5,
             "#f7f7f7"
            ],
            [
             0.6,
             "#e6f5d0"
            ],
            [
             0.7,
             "#b8e186"
            ],
            [
             0.8,
             "#7fbc41"
            ],
            [
             0.9,
             "#4d9221"
            ],
            [
             1,
             "#276419"
            ]
           ],
           "sequential": [
            [
             0,
             "#0d0887"
            ],
            [
             0.1111111111111111,
             "#46039f"
            ],
            [
             0.2222222222222222,
             "#7201a8"
            ],
            [
             0.3333333333333333,
             "#9c179e"
            ],
            [
             0.4444444444444444,
             "#bd3786"
            ],
            [
             0.5555555555555556,
             "#d8576b"
            ],
            [
             0.6666666666666666,
             "#ed7953"
            ],
            [
             0.7777777777777778,
             "#fb9f3a"
            ],
            [
             0.8888888888888888,
             "#fdca26"
            ],
            [
             1,
             "#f0f921"
            ]
           ],
           "sequentialminus": [
            [
             0,
             "#0d0887"
            ],
            [
             0.1111111111111111,
             "#46039f"
            ],
            [
             0.2222222222222222,
             "#7201a8"
            ],
            [
             0.3333333333333333,
             "#9c179e"
            ],
            [
             0.4444444444444444,
             "#bd3786"
            ],
            [
             0.5555555555555556,
             "#d8576b"
            ],
            [
             0.6666666666666666,
             "#ed7953"
            ],
            [
             0.7777777777777778,
             "#fb9f3a"
            ],
            [
             0.8888888888888888,
             "#fdca26"
            ],
            [
             1,
             "#f0f921"
            ]
           ]
          },
          "colorway": [
           "#636efa",
           "#EF553B",
           "#00cc96",
           "#ab63fa",
           "#FFA15A",
           "#19d3f3",
           "#FF6692",
           "#B6E880",
           "#FF97FF",
           "#FECB52"
          ],
          "font": {
           "color": "#2a3f5f"
          },
          "geo": {
           "bgcolor": "white",
           "lakecolor": "white",
           "landcolor": "#E5ECF6",
           "showlakes": true,
           "showland": true,
           "subunitcolor": "white"
          },
          "hoverlabel": {
           "align": "left"
          },
          "hovermode": "closest",
          "mapbox": {
           "style": "light"
          },
          "paper_bgcolor": "white",
          "plot_bgcolor": "#E5ECF6",
          "polar": {
           "angularaxis": {
            "gridcolor": "white",
            "linecolor": "white",
            "ticks": ""
           },
           "bgcolor": "#E5ECF6",
           "radialaxis": {
            "gridcolor": "white",
            "linecolor": "white",
            "ticks": ""
           }
          },
          "scene": {
           "xaxis": {
            "backgroundcolor": "#E5ECF6",
            "gridcolor": "white",
            "gridwidth": 2,
            "linecolor": "white",
            "showbackground": true,
            "ticks": "",
            "zerolinecolor": "white"
           },
           "yaxis": {
            "backgroundcolor": "#E5ECF6",
            "gridcolor": "white",
            "gridwidth": 2,
            "linecolor": "white",
            "showbackground": true,
            "ticks": "",
            "zerolinecolor": "white"
           },
           "zaxis": {
            "backgroundcolor": "#E5ECF6",
            "gridcolor": "white",
            "gridwidth": 2,
            "linecolor": "white",
            "showbackground": true,
            "ticks": "",
            "zerolinecolor": "white"
           }
          },
          "shapedefaults": {
           "line": {
            "color": "#2a3f5f"
           }
          },
          "ternary": {
           "aaxis": {
            "gridcolor": "white",
            "linecolor": "white",
            "ticks": ""
           },
           "baxis": {
            "gridcolor": "white",
            "linecolor": "white",
            "ticks": ""
           },
           "bgcolor": "#E5ECF6",
           "caxis": {
            "gridcolor": "white",
            "linecolor": "white",
            "ticks": ""
           }
          },
          "title": {
           "x": 0.05
          },
          "xaxis": {
           "automargin": true,
           "gridcolor": "white",
           "linecolor": "white",
           "ticks": "",
           "title": {
            "standoff": 15
           },
           "zerolinecolor": "white",
           "zerolinewidth": 2
          },
          "yaxis": {
           "automargin": true,
           "gridcolor": "white",
           "linecolor": "white",
           "ticks": "",
           "title": {
            "standoff": 15
           },
           "zerolinecolor": "white",
           "zerolinewidth": 2
          }
         }
        },
        "title": {
         "font": {
          "size": 24
         },
         "text": "Kendall Correlation of 2024 Features: Radio Platforms"
        },
        "xaxis": {
         "anchor": "y",
         "constrain": "domain",
         "domain": [
          0,
          1
         ],
         "scaleanchor": "y"
        },
        "yaxis": {
         "anchor": "x",
         "autorange": "reversed",
         "constrain": "domain",
         "domain": [
          0,
          1
         ]
        }
       }
      },
      "text/html": [
       "<div>                            <div id=\"dad0f4a9-a55e-4694-9a43-fcaa0954cd00\" class=\"plotly-graph-div\" style=\"height:525px; width:100%;\"></div>            <script type=\"text/javascript\">                require([\"plotly\"], function(Plotly) {                    window.PLOTLYENV=window.PLOTLYENV || {};                                    if (document.getElementById(\"dad0f4a9-a55e-4694-9a43-fcaa0954cd00\")) {                    Plotly.newPlot(                        \"dad0f4a9-a55e-4694-9a43-fcaa0954cd00\",                        [{\"coloraxis\":\"coloraxis\",\"name\":\"0\",\"texttemplate\":\"%{z}\",\"x\":[\"Spotify Streams\",\"SiriusXM Spins\",\"Pandora Streams\",\"AirPlay Spins\"],\"y\":[\"Spotify Streams\",\"SiriusXM Spins\",\"Pandora Streams\",\"AirPlay Spins\"],\"z\":[[1.0,0.17168912277102413,0.5305952052800366,0.36863860238000656],[0.17168912277102413,1.0,0.16064297421889806,0.31067189306588017],[0.5305952052800366,0.16064297421889806,1.0,0.3202566166952136],[0.36863860238000656,0.31067189306588017,0.3202566166952136,1.0]],\"type\":\"heatmap\",\"xaxis\":\"x\",\"yaxis\":\"y\",\"hovertemplate\":\"x: %{x}\\u003cbr\\u003ey: %{y}\\u003cbr\\u003ecolor: %{z}\\u003cextra\\u003e\\u003c\\u002fextra\\u003e\"}],                        {\"template\":{\"data\":{\"histogram2dcontour\":[{\"type\":\"histogram2dcontour\",\"colorbar\":{\"outlinewidth\":0,\"ticks\":\"\"},\"colorscale\":[[0.0,\"#0d0887\"],[0.1111111111111111,\"#46039f\"],[0.2222222222222222,\"#7201a8\"],[0.3333333333333333,\"#9c179e\"],[0.4444444444444444,\"#bd3786\"],[0.5555555555555556,\"#d8576b\"],[0.6666666666666666,\"#ed7953\"],[0.7777777777777778,\"#fb9f3a\"],[0.8888888888888888,\"#fdca26\"],[1.0,\"#f0f921\"]]}],\"choropleth\":[{\"type\":\"choropleth\",\"colorbar\":{\"outlinewidth\":0,\"ticks\":\"\"}}],\"histogram2d\":[{\"type\":\"histogram2d\",\"colorbar\":{\"outlinewidth\":0,\"ticks\":\"\"},\"colorscale\":[[0.0,\"#0d0887\"],[0.1111111111111111,\"#46039f\"],[0.2222222222222222,\"#7201a8\"],[0.3333333333333333,\"#9c179e\"],[0.4444444444444444,\"#bd3786\"],[0.5555555555555556,\"#d8576b\"],[0.6666666666666666,\"#ed7953\"],[0.7777777777777778,\"#fb9f3a\"],[0.8888888888888888,\"#fdca26\"],[1.0,\"#f0f921\"]]}],\"heatmap\":[{\"type\":\"heatmap\",\"colorbar\":{\"outlinewidth\":0,\"ticks\":\"\"},\"colorscale\":[[0.0,\"#0d0887\"],[0.1111111111111111,\"#46039f\"],[0.2222222222222222,\"#7201a8\"],[0.3333333333333333,\"#9c179e\"],[0.4444444444444444,\"#bd3786\"],[0.5555555555555556,\"#d8576b\"],[0.6666666666666666,\"#ed7953\"],[0.7777777777777778,\"#fb9f3a\"],[0.8888888888888888,\"#fdca26\"],[1.0,\"#f0f921\"]]}],\"heatmapgl\":[{\"type\":\"heatmapgl\",\"colorbar\":{\"outlinewidth\":0,\"ticks\":\"\"},\"colorscale\":[[0.0,\"#0d0887\"],[0.1111111111111111,\"#46039f\"],[0.2222222222222222,\"#7201a8\"],[0.3333333333333333,\"#9c179e\"],[0.4444444444444444,\"#bd3786\"],[0.5555555555555556,\"#d8576b\"],[0.6666666666666666,\"#ed7953\"],[0.7777777777777778,\"#fb9f3a\"],[0.8888888888888888,\"#fdca26\"],[1.0,\"#f0f921\"]]}],\"contourcarpet\":[{\"type\":\"contourcarpet\",\"colorbar\":{\"outlinewidth\":0,\"ticks\":\"\"}}],\"contour\":[{\"type\":\"contour\",\"colorbar\":{\"outlinewidth\":0,\"ticks\":\"\"},\"colorscale\":[[0.0,\"#0d0887\"],[0.1111111111111111,\"#46039f\"],[0.2222222222222222,\"#7201a8\"],[0.3333333333333333,\"#9c179e\"],[0.4444444444444444,\"#bd3786\"],[0.5555555555555556,\"#d8576b\"],[0.6666666666666666,\"#ed7953\"],[0.7777777777777778,\"#fb9f3a\"],[0.8888888888888888,\"#fdca26\"],[1.0,\"#f0f921\"]]}],\"surface\":[{\"type\":\"surface\",\"colorbar\":{\"outlinewidth\":0,\"ticks\":\"\"},\"colorscale\":[[0.0,\"#0d0887\"],[0.1111111111111111,\"#46039f\"],[0.2222222222222222,\"#7201a8\"],[0.3333333333333333,\"#9c179e\"],[0.4444444444444444,\"#bd3786\"],[0.5555555555555556,\"#d8576b\"],[0.6666666666666666,\"#ed7953\"],[0.7777777777777778,\"#fb9f3a\"],[0.8888888888888888,\"#fdca26\"],[1.0,\"#f0f921\"]]}],\"mesh3d\":[{\"type\":\"mesh3d\",\"colorbar\":{\"outlinewidth\":0,\"ticks\":\"\"}}],\"scatter\":[{\"fillpattern\":{\"fillmode\":\"overlay\",\"size\":10,\"solidity\":0.2},\"type\":\"scatter\"}],\"parcoords\":[{\"type\":\"parcoords\",\"line\":{\"colorbar\":{\"outlinewidth\":0,\"ticks\":\"\"}}}],\"scatterpolargl\":[{\"type\":\"scatterpolargl\",\"marker\":{\"colorbar\":{\"outlinewidth\":0,\"ticks\":\"\"}}}],\"bar\":[{\"error_x\":{\"color\":\"#2a3f5f\"},\"error_y\":{\"color\":\"#2a3f5f\"},\"marker\":{\"line\":{\"color\":\"#E5ECF6\",\"width\":0.5},\"pattern\":{\"fillmode\":\"overlay\",\"size\":10,\"solidity\":0.2}},\"type\":\"bar\"}],\"scattergeo\":[{\"type\":\"scattergeo\",\"marker\":{\"colorbar\":{\"outlinewidth\":0,\"ticks\":\"\"}}}],\"scatterpolar\":[{\"type\":\"scatterpolar\",\"marker\":{\"colorbar\":{\"outlinewidth\":0,\"ticks\":\"\"}}}],\"histogram\":[{\"marker\":{\"pattern\":{\"fillmode\":\"overlay\",\"size\":10,\"solidity\":0.2}},\"type\":\"histogram\"}],\"scattergl\":[{\"type\":\"scattergl\",\"marker\":{\"colorbar\":{\"outlinewidth\":0,\"ticks\":\"\"}}}],\"scatter3d\":[{\"type\":\"scatter3d\",\"line\":{\"colorbar\":{\"outlinewidth\":0,\"ticks\":\"\"}},\"marker\":{\"colorbar\":{\"outlinewidth\":0,\"ticks\":\"\"}}}],\"scattermapbox\":[{\"type\":\"scattermapbox\",\"marker\":{\"colorbar\":{\"outlinewidth\":0,\"ticks\":\"\"}}}],\"scatterternary\":[{\"type\":\"scatterternary\",\"marker\":{\"colorbar\":{\"outlinewidth\":0,\"ticks\":\"\"}}}],\"scattercarpet\":[{\"type\":\"scattercarpet\",\"marker\":{\"colorbar\":{\"outlinewidth\":0,\"ticks\":\"\"}}}],\"carpet\":[{\"aaxis\":{\"endlinecolor\":\"#2a3f5f\",\"gridcolor\":\"white\",\"linecolor\":\"white\",\"minorgridcolor\":\"white\",\"startlinecolor\":\"#2a3f5f\"},\"baxis\":{\"endlinecolor\":\"#2a3f5f\",\"gridcolor\":\"white\",\"linecolor\":\"white\",\"minorgridcolor\":\"white\",\"startlinecolor\":\"#2a3f5f\"},\"type\":\"carpet\"}],\"table\":[{\"cells\":{\"fill\":{\"color\":\"#EBF0F8\"},\"line\":{\"color\":\"white\"}},\"header\":{\"fill\":{\"color\":\"#C8D4E3\"},\"line\":{\"color\":\"white\"}},\"type\":\"table\"}],\"barpolar\":[{\"marker\":{\"line\":{\"color\":\"#E5ECF6\",\"width\":0.5},\"pattern\":{\"fillmode\":\"overlay\",\"size\":10,\"solidity\":0.2}},\"type\":\"barpolar\"}],\"pie\":[{\"automargin\":true,\"type\":\"pie\"}]},\"layout\":{\"autotypenumbers\":\"strict\",\"colorway\":[\"#636efa\",\"#EF553B\",\"#00cc96\",\"#ab63fa\",\"#FFA15A\",\"#19d3f3\",\"#FF6692\",\"#B6E880\",\"#FF97FF\",\"#FECB52\"],\"font\":{\"color\":\"#2a3f5f\"},\"hovermode\":\"closest\",\"hoverlabel\":{\"align\":\"left\"},\"paper_bgcolor\":\"white\",\"plot_bgcolor\":\"#E5ECF6\",\"polar\":{\"bgcolor\":\"#E5ECF6\",\"angularaxis\":{\"gridcolor\":\"white\",\"linecolor\":\"white\",\"ticks\":\"\"},\"radialaxis\":{\"gridcolor\":\"white\",\"linecolor\":\"white\",\"ticks\":\"\"}},\"ternary\":{\"bgcolor\":\"#E5ECF6\",\"aaxis\":{\"gridcolor\":\"white\",\"linecolor\":\"white\",\"ticks\":\"\"},\"baxis\":{\"gridcolor\":\"white\",\"linecolor\":\"white\",\"ticks\":\"\"},\"caxis\":{\"gridcolor\":\"white\",\"linecolor\":\"white\",\"ticks\":\"\"}},\"coloraxis\":{\"colorbar\":{\"outlinewidth\":0,\"ticks\":\"\"}},\"colorscale\":{\"sequential\":[[0.0,\"#0d0887\"],[0.1111111111111111,\"#46039f\"],[0.2222222222222222,\"#7201a8\"],[0.3333333333333333,\"#9c179e\"],[0.4444444444444444,\"#bd3786\"],[0.5555555555555556,\"#d8576b\"],[0.6666666666666666,\"#ed7953\"],[0.7777777777777778,\"#fb9f3a\"],[0.8888888888888888,\"#fdca26\"],[1.0,\"#f0f921\"]],\"sequentialminus\":[[0.0,\"#0d0887\"],[0.1111111111111111,\"#46039f\"],[0.2222222222222222,\"#7201a8\"],[0.3333333333333333,\"#9c179e\"],[0.4444444444444444,\"#bd3786\"],[0.5555555555555556,\"#d8576b\"],[0.6666666666666666,\"#ed7953\"],[0.7777777777777778,\"#fb9f3a\"],[0.8888888888888888,\"#fdca26\"],[1.0,\"#f0f921\"]],\"diverging\":[[0,\"#8e0152\"],[0.1,\"#c51b7d\"],[0.2,\"#de77ae\"],[0.3,\"#f1b6da\"],[0.4,\"#fde0ef\"],[0.5,\"#f7f7f7\"],[0.6,\"#e6f5d0\"],[0.7,\"#b8e186\"],[0.8,\"#7fbc41\"],[0.9,\"#4d9221\"],[1,\"#276419\"]]},\"xaxis\":{\"gridcolor\":\"white\",\"linecolor\":\"white\",\"ticks\":\"\",\"title\":{\"standoff\":15},\"zerolinecolor\":\"white\",\"automargin\":true,\"zerolinewidth\":2},\"yaxis\":{\"gridcolor\":\"white\",\"linecolor\":\"white\",\"ticks\":\"\",\"title\":{\"standoff\":15},\"zerolinecolor\":\"white\",\"automargin\":true,\"zerolinewidth\":2},\"scene\":{\"xaxis\":{\"backgroundcolor\":\"#E5ECF6\",\"gridcolor\":\"white\",\"linecolor\":\"white\",\"showbackground\":true,\"ticks\":\"\",\"zerolinecolor\":\"white\",\"gridwidth\":2},\"yaxis\":{\"backgroundcolor\":\"#E5ECF6\",\"gridcolor\":\"white\",\"linecolor\":\"white\",\"showbackground\":true,\"ticks\":\"\",\"zerolinecolor\":\"white\",\"gridwidth\":2},\"zaxis\":{\"backgroundcolor\":\"#E5ECF6\",\"gridcolor\":\"white\",\"linecolor\":\"white\",\"showbackground\":true,\"ticks\":\"\",\"zerolinecolor\":\"white\",\"gridwidth\":2}},\"shapedefaults\":{\"line\":{\"color\":\"#2a3f5f\"}},\"annotationdefaults\":{\"arrowcolor\":\"#2a3f5f\",\"arrowhead\":0,\"arrowwidth\":1},\"geo\":{\"bgcolor\":\"white\",\"landcolor\":\"#E5ECF6\",\"subunitcolor\":\"white\",\"showland\":true,\"showlakes\":true,\"lakecolor\":\"white\"},\"title\":{\"x\":0.05},\"mapbox\":{\"style\":\"light\"}}},\"xaxis\":{\"anchor\":\"y\",\"domain\":[0.0,1.0],\"scaleanchor\":\"y\",\"constrain\":\"domain\"},\"yaxis\":{\"anchor\":\"x\",\"domain\":[0.0,1.0],\"autorange\":\"reversed\",\"constrain\":\"domain\"},\"coloraxis\":{\"colorscale\":[[0.0,\"#0d0887\"],[0.1111111111111111,\"#46039f\"],[0.2222222222222222,\"#7201a8\"],[0.3333333333333333,\"#9c179e\"],[0.4444444444444444,\"#bd3786\"],[0.5555555555555556,\"#d8576b\"],[0.6666666666666666,\"#ed7953\"],[0.7777777777777778,\"#fb9f3a\"],[0.8888888888888888,\"#fdca26\"],[1.0,\"#f0f921\"]]},\"margin\":{\"t\":60},\"title\":{\"font\":{\"size\":24},\"text\":\"Kendall Correlation of 2024 Features: Radio Platforms\"}},                        {\"responsive\": true}                    ).then(function(){\n",
       "                            \n",
       "var gd = document.getElementById('dad0f4a9-a55e-4694-9a43-fcaa0954cd00');\n",
       "var x = new MutationObserver(function (mutations, observer) {{\n",
       "        var display = window.getComputedStyle(gd).display;\n",
       "        if (!display || display === 'none') {{\n",
       "            console.log([gd, 'removed!']);\n",
       "            Plotly.purge(gd);\n",
       "            observer.disconnect();\n",
       "        }}\n",
       "}});\n",
       "\n",
       "// Listen for the removal of the full notebook cells\n",
       "var notebookContainer = gd.closest('#notebook-container');\n",
       "if (notebookContainer) {{\n",
       "    x.observe(notebookContainer, {childList: true});\n",
       "}}\n",
       "\n",
       "// Listen for the clearing of the current output cell\n",
       "var outputEl = gd.closest('.output');\n",
       "if (outputEl) {{\n",
       "    x.observe(outputEl, {childList: true});\n",
       "}}\n",
       "\n",
       "                        })                };                });            </script>        </div>"
      ]
     },
     "metadata": {},
     "output_type": "display_data"
    }
   ],
   "source": [
    "# not_include: set[str] = set([\"Track\", \"Album Name\", \"Artist\", \"Release Date\", \"ISRC\", \"All Time Rank\", \"TIDAL Popularity\"])\n",
    "cols: list[str] = [\n",
    "    \"Spotify Streams\", \"SiriusXM Spins\", \"Pandora Streams\", \"AirPlay Spins\"\n",
    "]\n",
    "# cols = list(filter(lambda x: x not in not_include, df.columns))\n",
    "corr_mat = df.loc[:, cols].corr(method=\"kendall\")\n",
    "fig = px.imshow(corr_mat, text_auto=True)\n",
    "fig.update_layout(dict(\n",
    "    title=dict(\n",
    "        text=\"Kendall Correlation of 2024 Features: Radio Platforms\",\n",
    "        font=dict(\n",
    "            size=24\n",
    "        ),\n",
    "    ),\n",
    "))\n",
    "fig.show()\n",
    "# Save images\n",
    "fig.write_image(f\"./../../images/2024/Correlation-Radio.png\", width=WIDTH, height=HEIGHT, scale=1.0)"
   ]
  },
  {
   "cell_type": "code",
   "execution_count": 7,
   "metadata": {},
   "outputs": [
    {
     "data": {
      "application/vnd.plotly.v1+json": {
       "config": {
        "plotlyServerURL": "https://plot.ly"
       },
       "data": [
        {
         "coloraxis": "coloraxis",
         "hovertemplate": "x: %{x}<br>y: %{y}<br>color: %{z}<extra></extra>",
         "name": "0",
         "texttemplate": "%{z}",
         "type": "heatmap",
         "x": [
          "streams",
          "artist_count",
          "released_year",
          "released_month",
          "released_day",
          "in_spotify_playlists",
          "in_spotify_charts",
          "in_apple_playlists",
          "in_apple_charts",
          "in_deezer_playlists",
          "in_deezer_charts",
          "in_shazam_charts"
         ],
         "xaxis": "x",
         "y": [
          "streams",
          "artist_count",
          "released_year",
          "released_month",
          "released_day",
          "in_spotify_playlists",
          "in_spotify_charts",
          "in_apple_playlists",
          "in_apple_charts",
          "in_deezer_playlists",
          "in_deezer_charts",
          "in_shazam_charts"
         ],
         "yaxis": "y",
         "z": [
          [
           1,
           -0.12107250847599486,
           -0.5294006603620843,
           -0.00047500736688890397,
           0.008535431593572904,
           0.6418282426659915,
           0.18664120919868457,
           0.4928132148220141,
           0.23447879419635942,
           0.5569447362966821,
           0.1711102413095256,
           0.15827309891879773
          ],
          [
           -0.12107250847599486,
           1,
           0.16634850006050594,
           0.027759157507312955,
           -0.0008154011549073082,
           -0.08742470715522635,
           0.00886553779250014,
           -0.016284697653252526,
           -0.052399306930086986,
           -0.06845526592857144,
           0.054217942270215674,
           -0.01836922750558943
          ],
          [
           -0.5294006603620843,
           0.16634850006050594,
           1,
           -0.10329668207075501,
           0.07649823666919539,
           -0.5179547854803381,
           0.11319887257976015,
           -0.3001184505177912,
           -0.017970400988759072,
           -0.42112114845581905,
           0.12520621285109212,
           0.09235771260919072
          ],
          [
           -0.00047500736688890397,
           0.027759157507312955,
           -0.10329668207075501,
           1,
           0.07073510121948674,
           -0.02809784838727673,
           -0.02363353166123535,
           -0.028524382106445766,
           -0.006184013004513775,
           -0.0599177838147168,
           -0.012995801806038387,
           -0.05884092954020589
          ],
          [
           0.008535431593572904,
           -0.0008154011549073082,
           0.07649823666919539,
           0.07073510121948674,
           1,
           -0.021718636065995455,
           0.01772029849059598,
           0.015102303861676,
           -0.008776497687427186,
           0.0003136827923331714,
           0.044240925565781915,
           0.047189668199769205
          ],
          [
           0.6418282426659915,
           -0.08742470715522635,
           -0.5179547854803381,
           -0.02809784838727673,
           -0.021718636065995455,
           1,
           0.0863380280974734,
           0.5902564821467934,
           0.18152152867923527,
           0.6729483969184344,
           0.15507753107543856,
           0.13516434526225
          ],
          [
           0.18664120919868457,
           0.00886553779250014,
           0.11319887257976015,
           -0.02363353166123535,
           0.01772029849059598,
           0.0863380280974734,
           1,
           0.14909610280938562,
           0.39061103564130584,
           0.14594865762056214,
           0.49467879477521015,
           0.45948934011528364
          ],
          [
           0.4928132148220141,
           -0.016284697653252526,
           -0.3001184505177912,
           -0.028524382106445766,
           0.015102303861676,
           0.5902564821467934,
           0.14909610280938562,
           1,
           0.3107731448865645,
           0.6276189898392863,
           0.2645512318876717,
           0.2627841475394999
          ],
          [
           0.23447879419635942,
           -0.052399306930086986,
           -0.017970400988759072,
           -0.006184013004513775,
           -0.008776497687427186,
           0.18152152867923527,
           0.39061103564130584,
           0.3107731448865645,
           1,
           0.22297596370527475,
           0.31908436038481375,
           0.4218774038015904
          ],
          [
           0.5569447362966821,
           -0.06845526592857144,
           -0.42112114845581905,
           -0.0599177838147168,
           0.0003136827923331714,
           0.6729483969184344,
           0.14594865762056214,
           0.6276189898392863,
           0.22297596370527475,
           1,
           0.25483667066605736,
           0.22213649089415302
          ],
          [
           0.1711102413095256,
           0.054217942270215674,
           0.12520621285109212,
           -0.012995801806038387,
           0.044240925565781915,
           0.15507753107543856,
           0.49467879477521015,
           0.2645512318876717,
           0.31908436038481375,
           0.25483667066605736,
           1,
           0.35997941799639804
          ],
          [
           0.15827309891879773,
           -0.01836922750558943,
           0.09235771260919072,
           -0.05884092954020589,
           0.047189668199769205,
           0.13516434526225,
           0.45948934011528364,
           0.2627841475394999,
           0.4218774038015904,
           0.22213649089415302,
           0.35997941799639804,
           1
          ]
         ]
        }
       ],
       "layout": {
        "coloraxis": {
         "colorscale": [
          [
           0,
           "#0d0887"
          ],
          [
           0.1111111111111111,
           "#46039f"
          ],
          [
           0.2222222222222222,
           "#7201a8"
          ],
          [
           0.3333333333333333,
           "#9c179e"
          ],
          [
           0.4444444444444444,
           "#bd3786"
          ],
          [
           0.5555555555555556,
           "#d8576b"
          ],
          [
           0.6666666666666666,
           "#ed7953"
          ],
          [
           0.7777777777777778,
           "#fb9f3a"
          ],
          [
           0.8888888888888888,
           "#fdca26"
          ],
          [
           1,
           "#f0f921"
          ]
         ]
        },
        "margin": {
         "t": 60
        },
        "template": {
         "data": {
          "bar": [
           {
            "error_x": {
             "color": "#2a3f5f"
            },
            "error_y": {
             "color": "#2a3f5f"
            },
            "marker": {
             "line": {
              "color": "#E5ECF6",
              "width": 0.5
             },
             "pattern": {
              "fillmode": "overlay",
              "size": 10,
              "solidity": 0.2
             }
            },
            "type": "bar"
           }
          ],
          "barpolar": [
           {
            "marker": {
             "line": {
              "color": "#E5ECF6",
              "width": 0.5
             },
             "pattern": {
              "fillmode": "overlay",
              "size": 10,
              "solidity": 0.2
             }
            },
            "type": "barpolar"
           }
          ],
          "carpet": [
           {
            "aaxis": {
             "endlinecolor": "#2a3f5f",
             "gridcolor": "white",
             "linecolor": "white",
             "minorgridcolor": "white",
             "startlinecolor": "#2a3f5f"
            },
            "baxis": {
             "endlinecolor": "#2a3f5f",
             "gridcolor": "white",
             "linecolor": "white",
             "minorgridcolor": "white",
             "startlinecolor": "#2a3f5f"
            },
            "type": "carpet"
           }
          ],
          "choropleth": [
           {
            "colorbar": {
             "outlinewidth": 0,
             "ticks": ""
            },
            "type": "choropleth"
           }
          ],
          "contour": [
           {
            "colorbar": {
             "outlinewidth": 0,
             "ticks": ""
            },
            "colorscale": [
             [
              0,
              "#0d0887"
             ],
             [
              0.1111111111111111,
              "#46039f"
             ],
             [
              0.2222222222222222,
              "#7201a8"
             ],
             [
              0.3333333333333333,
              "#9c179e"
             ],
             [
              0.4444444444444444,
              "#bd3786"
             ],
             [
              0.5555555555555556,
              "#d8576b"
             ],
             [
              0.6666666666666666,
              "#ed7953"
             ],
             [
              0.7777777777777778,
              "#fb9f3a"
             ],
             [
              0.8888888888888888,
              "#fdca26"
             ],
             [
              1,
              "#f0f921"
             ]
            ],
            "type": "contour"
           }
          ],
          "contourcarpet": [
           {
            "colorbar": {
             "outlinewidth": 0,
             "ticks": ""
            },
            "type": "contourcarpet"
           }
          ],
          "heatmap": [
           {
            "colorbar": {
             "outlinewidth": 0,
             "ticks": ""
            },
            "colorscale": [
             [
              0,
              "#0d0887"
             ],
             [
              0.1111111111111111,
              "#46039f"
             ],
             [
              0.2222222222222222,
              "#7201a8"
             ],
             [
              0.3333333333333333,
              "#9c179e"
             ],
             [
              0.4444444444444444,
              "#bd3786"
             ],
             [
              0.5555555555555556,
              "#d8576b"
             ],
             [
              0.6666666666666666,
              "#ed7953"
             ],
             [
              0.7777777777777778,
              "#fb9f3a"
             ],
             [
              0.8888888888888888,
              "#fdca26"
             ],
             [
              1,
              "#f0f921"
             ]
            ],
            "type": "heatmap"
           }
          ],
          "heatmapgl": [
           {
            "colorbar": {
             "outlinewidth": 0,
             "ticks": ""
            },
            "colorscale": [
             [
              0,
              "#0d0887"
             ],
             [
              0.1111111111111111,
              "#46039f"
             ],
             [
              0.2222222222222222,
              "#7201a8"
             ],
             [
              0.3333333333333333,
              "#9c179e"
             ],
             [
              0.4444444444444444,
              "#bd3786"
             ],
             [
              0.5555555555555556,
              "#d8576b"
             ],
             [
              0.6666666666666666,
              "#ed7953"
             ],
             [
              0.7777777777777778,
              "#fb9f3a"
             ],
             [
              0.8888888888888888,
              "#fdca26"
             ],
             [
              1,
              "#f0f921"
             ]
            ],
            "type": "heatmapgl"
           }
          ],
          "histogram": [
           {
            "marker": {
             "pattern": {
              "fillmode": "overlay",
              "size": 10,
              "solidity": 0.2
             }
            },
            "type": "histogram"
           }
          ],
          "histogram2d": [
           {
            "colorbar": {
             "outlinewidth": 0,
             "ticks": ""
            },
            "colorscale": [
             [
              0,
              "#0d0887"
             ],
             [
              0.1111111111111111,
              "#46039f"
             ],
             [
              0.2222222222222222,
              "#7201a8"
             ],
             [
              0.3333333333333333,
              "#9c179e"
             ],
             [
              0.4444444444444444,
              "#bd3786"
             ],
             [
              0.5555555555555556,
              "#d8576b"
             ],
             [
              0.6666666666666666,
              "#ed7953"
             ],
             [
              0.7777777777777778,
              "#fb9f3a"
             ],
             [
              0.8888888888888888,
              "#fdca26"
             ],
             [
              1,
              "#f0f921"
             ]
            ],
            "type": "histogram2d"
           }
          ],
          "histogram2dcontour": [
           {
            "colorbar": {
             "outlinewidth": 0,
             "ticks": ""
            },
            "colorscale": [
             [
              0,
              "#0d0887"
             ],
             [
              0.1111111111111111,
              "#46039f"
             ],
             [
              0.2222222222222222,
              "#7201a8"
             ],
             [
              0.3333333333333333,
              "#9c179e"
             ],
             [
              0.4444444444444444,
              "#bd3786"
             ],
             [
              0.5555555555555556,
              "#d8576b"
             ],
             [
              0.6666666666666666,
              "#ed7953"
             ],
             [
              0.7777777777777778,
              "#fb9f3a"
             ],
             [
              0.8888888888888888,
              "#fdca26"
             ],
             [
              1,
              "#f0f921"
             ]
            ],
            "type": "histogram2dcontour"
           }
          ],
          "mesh3d": [
           {
            "colorbar": {
             "outlinewidth": 0,
             "ticks": ""
            },
            "type": "mesh3d"
           }
          ],
          "parcoords": [
           {
            "line": {
             "colorbar": {
              "outlinewidth": 0,
              "ticks": ""
             }
            },
            "type": "parcoords"
           }
          ],
          "pie": [
           {
            "automargin": true,
            "type": "pie"
           }
          ],
          "scatter": [
           {
            "fillpattern": {
             "fillmode": "overlay",
             "size": 10,
             "solidity": 0.2
            },
            "type": "scatter"
           }
          ],
          "scatter3d": [
           {
            "line": {
             "colorbar": {
              "outlinewidth": 0,
              "ticks": ""
             }
            },
            "marker": {
             "colorbar": {
              "outlinewidth": 0,
              "ticks": ""
             }
            },
            "type": "scatter3d"
           }
          ],
          "scattercarpet": [
           {
            "marker": {
             "colorbar": {
              "outlinewidth": 0,
              "ticks": ""
             }
            },
            "type": "scattercarpet"
           }
          ],
          "scattergeo": [
           {
            "marker": {
             "colorbar": {
              "outlinewidth": 0,
              "ticks": ""
             }
            },
            "type": "scattergeo"
           }
          ],
          "scattergl": [
           {
            "marker": {
             "colorbar": {
              "outlinewidth": 0,
              "ticks": ""
             }
            },
            "type": "scattergl"
           }
          ],
          "scattermapbox": [
           {
            "marker": {
             "colorbar": {
              "outlinewidth": 0,
              "ticks": ""
             }
            },
            "type": "scattermapbox"
           }
          ],
          "scatterpolar": [
           {
            "marker": {
             "colorbar": {
              "outlinewidth": 0,
              "ticks": ""
             }
            },
            "type": "scatterpolar"
           }
          ],
          "scatterpolargl": [
           {
            "marker": {
             "colorbar": {
              "outlinewidth": 0,
              "ticks": ""
             }
            },
            "type": "scatterpolargl"
           }
          ],
          "scatterternary": [
           {
            "marker": {
             "colorbar": {
              "outlinewidth": 0,
              "ticks": ""
             }
            },
            "type": "scatterternary"
           }
          ],
          "surface": [
           {
            "colorbar": {
             "outlinewidth": 0,
             "ticks": ""
            },
            "colorscale": [
             [
              0,
              "#0d0887"
             ],
             [
              0.1111111111111111,
              "#46039f"
             ],
             [
              0.2222222222222222,
              "#7201a8"
             ],
             [
              0.3333333333333333,
              "#9c179e"
             ],
             [
              0.4444444444444444,
              "#bd3786"
             ],
             [
              0.5555555555555556,
              "#d8576b"
             ],
             [
              0.6666666666666666,
              "#ed7953"
             ],
             [
              0.7777777777777778,
              "#fb9f3a"
             ],
             [
              0.8888888888888888,
              "#fdca26"
             ],
             [
              1,
              "#f0f921"
             ]
            ],
            "type": "surface"
           }
          ],
          "table": [
           {
            "cells": {
             "fill": {
              "color": "#EBF0F8"
             },
             "line": {
              "color": "white"
             }
            },
            "header": {
             "fill": {
              "color": "#C8D4E3"
             },
             "line": {
              "color": "white"
             }
            },
            "type": "table"
           }
          ]
         },
         "layout": {
          "annotationdefaults": {
           "arrowcolor": "#2a3f5f",
           "arrowhead": 0,
           "arrowwidth": 1
          },
          "autotypenumbers": "strict",
          "coloraxis": {
           "colorbar": {
            "outlinewidth": 0,
            "ticks": ""
           }
          },
          "colorscale": {
           "diverging": [
            [
             0,
             "#8e0152"
            ],
            [
             0.1,
             "#c51b7d"
            ],
            [
             0.2,
             "#de77ae"
            ],
            [
             0.3,
             "#f1b6da"
            ],
            [
             0.4,
             "#fde0ef"
            ],
            [
             0.5,
             "#f7f7f7"
            ],
            [
             0.6,
             "#e6f5d0"
            ],
            [
             0.7,
             "#b8e186"
            ],
            [
             0.8,
             "#7fbc41"
            ],
            [
             0.9,
             "#4d9221"
            ],
            [
             1,
             "#276419"
            ]
           ],
           "sequential": [
            [
             0,
             "#0d0887"
            ],
            [
             0.1111111111111111,
             "#46039f"
            ],
            [
             0.2222222222222222,
             "#7201a8"
            ],
            [
             0.3333333333333333,
             "#9c179e"
            ],
            [
             0.4444444444444444,
             "#bd3786"
            ],
            [
             0.5555555555555556,
             "#d8576b"
            ],
            [
             0.6666666666666666,
             "#ed7953"
            ],
            [
             0.7777777777777778,
             "#fb9f3a"
            ],
            [
             0.8888888888888888,
             "#fdca26"
            ],
            [
             1,
             "#f0f921"
            ]
           ],
           "sequentialminus": [
            [
             0,
             "#0d0887"
            ],
            [
             0.1111111111111111,
             "#46039f"
            ],
            [
             0.2222222222222222,
             "#7201a8"
            ],
            [
             0.3333333333333333,
             "#9c179e"
            ],
            [
             0.4444444444444444,
             "#bd3786"
            ],
            [
             0.5555555555555556,
             "#d8576b"
            ],
            [
             0.6666666666666666,
             "#ed7953"
            ],
            [
             0.7777777777777778,
             "#fb9f3a"
            ],
            [
             0.8888888888888888,
             "#fdca26"
            ],
            [
             1,
             "#f0f921"
            ]
           ]
          },
          "colorway": [
           "#636efa",
           "#EF553B",
           "#00cc96",
           "#ab63fa",
           "#FFA15A",
           "#19d3f3",
           "#FF6692",
           "#B6E880",
           "#FF97FF",
           "#FECB52"
          ],
          "font": {
           "color": "#2a3f5f"
          },
          "geo": {
           "bgcolor": "white",
           "lakecolor": "white",
           "landcolor": "#E5ECF6",
           "showlakes": true,
           "showland": true,
           "subunitcolor": "white"
          },
          "hoverlabel": {
           "align": "left"
          },
          "hovermode": "closest",
          "mapbox": {
           "style": "light"
          },
          "paper_bgcolor": "white",
          "plot_bgcolor": "#E5ECF6",
          "polar": {
           "angularaxis": {
            "gridcolor": "white",
            "linecolor": "white",
            "ticks": ""
           },
           "bgcolor": "#E5ECF6",
           "radialaxis": {
            "gridcolor": "white",
            "linecolor": "white",
            "ticks": ""
           }
          },
          "scene": {
           "xaxis": {
            "backgroundcolor": "#E5ECF6",
            "gridcolor": "white",
            "gridwidth": 2,
            "linecolor": "white",
            "showbackground": true,
            "ticks": "",
            "zerolinecolor": "white"
           },
           "yaxis": {
            "backgroundcolor": "#E5ECF6",
            "gridcolor": "white",
            "gridwidth": 2,
            "linecolor": "white",
            "showbackground": true,
            "ticks": "",
            "zerolinecolor": "white"
           },
           "zaxis": {
            "backgroundcolor": "#E5ECF6",
            "gridcolor": "white",
            "gridwidth": 2,
            "linecolor": "white",
            "showbackground": true,
            "ticks": "",
            "zerolinecolor": "white"
           }
          },
          "shapedefaults": {
           "line": {
            "color": "#2a3f5f"
           }
          },
          "ternary": {
           "aaxis": {
            "gridcolor": "white",
            "linecolor": "white",
            "ticks": ""
           },
           "baxis": {
            "gridcolor": "white",
            "linecolor": "white",
            "ticks": ""
           },
           "bgcolor": "#E5ECF6",
           "caxis": {
            "gridcolor": "white",
            "linecolor": "white",
            "ticks": ""
           }
          },
          "title": {
           "x": 0.05
          },
          "xaxis": {
           "automargin": true,
           "gridcolor": "white",
           "linecolor": "white",
           "ticks": "",
           "title": {
            "standoff": 15
           },
           "zerolinecolor": "white",
           "zerolinewidth": 2
          },
          "yaxis": {
           "automargin": true,
           "gridcolor": "white",
           "linecolor": "white",
           "ticks": "",
           "title": {
            "standoff": 15
           },
           "zerolinecolor": "white",
           "zerolinewidth": 2
          }
         }
        },
        "title": {
         "font": {
          "size": 24
         },
         "text": "Kendall Correlation of 2023 Features: Playlists, Charts"
        },
        "xaxis": {
         "anchor": "y",
         "constrain": "domain",
         "domain": [
          0,
          1
         ],
         "scaleanchor": "y"
        },
        "yaxis": {
         "anchor": "x",
         "autorange": "reversed",
         "constrain": "domain",
         "domain": [
          0,
          1
         ]
        }
       }
      },
      "text/html": [
       "<div>                            <div id=\"4b4dbf5c-9aa4-40d9-84fa-2dfa43a171a1\" class=\"plotly-graph-div\" style=\"height:525px; width:100%;\"></div>            <script type=\"text/javascript\">                require([\"plotly\"], function(Plotly) {                    window.PLOTLYENV=window.PLOTLYENV || {};                                    if (document.getElementById(\"4b4dbf5c-9aa4-40d9-84fa-2dfa43a171a1\")) {                    Plotly.newPlot(                        \"4b4dbf5c-9aa4-40d9-84fa-2dfa43a171a1\",                        [{\"coloraxis\":\"coloraxis\",\"name\":\"0\",\"texttemplate\":\"%{z}\",\"x\":[\"streams\",\"artist_count\",\"released_year\",\"released_month\",\"released_day\",\"in_spotify_playlists\",\"in_spotify_charts\",\"in_apple_playlists\",\"in_apple_charts\",\"in_deezer_playlists\",\"in_deezer_charts\",\"in_shazam_charts\"],\"y\":[\"streams\",\"artist_count\",\"released_year\",\"released_month\",\"released_day\",\"in_spotify_playlists\",\"in_spotify_charts\",\"in_apple_playlists\",\"in_apple_charts\",\"in_deezer_playlists\",\"in_deezer_charts\",\"in_shazam_charts\"],\"z\":[[1.0,-0.12107250847599486,-0.5294006603620843,-0.00047500736688890397,0.008535431593572904,0.6418282426659915,0.18664120919868457,0.4928132148220141,0.23447879419635942,0.5569447362966821,0.1711102413095256,0.15827309891879773],[-0.12107250847599486,1.0,0.16634850006050594,0.027759157507312955,-0.0008154011549073082,-0.08742470715522635,0.00886553779250014,-0.016284697653252526,-0.052399306930086986,-0.06845526592857144,0.054217942270215674,-0.01836922750558943],[-0.5294006603620843,0.16634850006050594,1.0,-0.10329668207075501,0.07649823666919539,-0.5179547854803381,0.11319887257976015,-0.3001184505177912,-0.017970400988759072,-0.42112114845581905,0.12520621285109212,0.09235771260919072],[-0.00047500736688890397,0.027759157507312955,-0.10329668207075501,1.0,0.07073510121948674,-0.02809784838727673,-0.02363353166123535,-0.028524382106445766,-0.006184013004513775,-0.0599177838147168,-0.012995801806038387,-0.05884092954020589],[0.008535431593572904,-0.0008154011549073082,0.07649823666919539,0.07073510121948674,1.0,-0.021718636065995455,0.01772029849059598,0.015102303861676,-0.008776497687427186,0.0003136827923331714,0.044240925565781915,0.047189668199769205],[0.6418282426659915,-0.08742470715522635,-0.5179547854803381,-0.02809784838727673,-0.021718636065995455,1.0,0.0863380280974734,0.5902564821467934,0.18152152867923527,0.6729483969184344,0.15507753107543856,0.13516434526225],[0.18664120919868457,0.00886553779250014,0.11319887257976015,-0.02363353166123535,0.01772029849059598,0.0863380280974734,1.0,0.14909610280938562,0.39061103564130584,0.14594865762056214,0.49467879477521015,0.45948934011528364],[0.4928132148220141,-0.016284697653252526,-0.3001184505177912,-0.028524382106445766,0.015102303861676,0.5902564821467934,0.14909610280938562,1.0,0.3107731448865645,0.6276189898392863,0.2645512318876717,0.2627841475394999],[0.23447879419635942,-0.052399306930086986,-0.017970400988759072,-0.006184013004513775,-0.008776497687427186,0.18152152867923527,0.39061103564130584,0.3107731448865645,1.0,0.22297596370527475,0.31908436038481375,0.4218774038015904],[0.5569447362966821,-0.06845526592857144,-0.42112114845581905,-0.0599177838147168,0.0003136827923331714,0.6729483969184344,0.14594865762056214,0.6276189898392863,0.22297596370527475,1.0,0.25483667066605736,0.22213649089415302],[0.1711102413095256,0.054217942270215674,0.12520621285109212,-0.012995801806038387,0.044240925565781915,0.15507753107543856,0.49467879477521015,0.2645512318876717,0.31908436038481375,0.25483667066605736,1.0,0.35997941799639804],[0.15827309891879773,-0.01836922750558943,0.09235771260919072,-0.05884092954020589,0.047189668199769205,0.13516434526225,0.45948934011528364,0.2627841475394999,0.4218774038015904,0.22213649089415302,0.35997941799639804,1.0]],\"type\":\"heatmap\",\"xaxis\":\"x\",\"yaxis\":\"y\",\"hovertemplate\":\"x: %{x}\\u003cbr\\u003ey: %{y}\\u003cbr\\u003ecolor: %{z}\\u003cextra\\u003e\\u003c\\u002fextra\\u003e\"}],                        {\"template\":{\"data\":{\"histogram2dcontour\":[{\"type\":\"histogram2dcontour\",\"colorbar\":{\"outlinewidth\":0,\"ticks\":\"\"},\"colorscale\":[[0.0,\"#0d0887\"],[0.1111111111111111,\"#46039f\"],[0.2222222222222222,\"#7201a8\"],[0.3333333333333333,\"#9c179e\"],[0.4444444444444444,\"#bd3786\"],[0.5555555555555556,\"#d8576b\"],[0.6666666666666666,\"#ed7953\"],[0.7777777777777778,\"#fb9f3a\"],[0.8888888888888888,\"#fdca26\"],[1.0,\"#f0f921\"]]}],\"choropleth\":[{\"type\":\"choropleth\",\"colorbar\":{\"outlinewidth\":0,\"ticks\":\"\"}}],\"histogram2d\":[{\"type\":\"histogram2d\",\"colorbar\":{\"outlinewidth\":0,\"ticks\":\"\"},\"colorscale\":[[0.0,\"#0d0887\"],[0.1111111111111111,\"#46039f\"],[0.2222222222222222,\"#7201a8\"],[0.3333333333333333,\"#9c179e\"],[0.4444444444444444,\"#bd3786\"],[0.5555555555555556,\"#d8576b\"],[0.6666666666666666,\"#ed7953\"],[0.7777777777777778,\"#fb9f3a\"],[0.8888888888888888,\"#fdca26\"],[1.0,\"#f0f921\"]]}],\"heatmap\":[{\"type\":\"heatmap\",\"colorbar\":{\"outlinewidth\":0,\"ticks\":\"\"},\"colorscale\":[[0.0,\"#0d0887\"],[0.1111111111111111,\"#46039f\"],[0.2222222222222222,\"#7201a8\"],[0.3333333333333333,\"#9c179e\"],[0.4444444444444444,\"#bd3786\"],[0.5555555555555556,\"#d8576b\"],[0.6666666666666666,\"#ed7953\"],[0.7777777777777778,\"#fb9f3a\"],[0.8888888888888888,\"#fdca26\"],[1.0,\"#f0f921\"]]}],\"heatmapgl\":[{\"type\":\"heatmapgl\",\"colorbar\":{\"outlinewidth\":0,\"ticks\":\"\"},\"colorscale\":[[0.0,\"#0d0887\"],[0.1111111111111111,\"#46039f\"],[0.2222222222222222,\"#7201a8\"],[0.3333333333333333,\"#9c179e\"],[0.4444444444444444,\"#bd3786\"],[0.5555555555555556,\"#d8576b\"],[0.6666666666666666,\"#ed7953\"],[0.7777777777777778,\"#fb9f3a\"],[0.8888888888888888,\"#fdca26\"],[1.0,\"#f0f921\"]]}],\"contourcarpet\":[{\"type\":\"contourcarpet\",\"colorbar\":{\"outlinewidth\":0,\"ticks\":\"\"}}],\"contour\":[{\"type\":\"contour\",\"colorbar\":{\"outlinewidth\":0,\"ticks\":\"\"},\"colorscale\":[[0.0,\"#0d0887\"],[0.1111111111111111,\"#46039f\"],[0.2222222222222222,\"#7201a8\"],[0.3333333333333333,\"#9c179e\"],[0.4444444444444444,\"#bd3786\"],[0.5555555555555556,\"#d8576b\"],[0.6666666666666666,\"#ed7953\"],[0.7777777777777778,\"#fb9f3a\"],[0.8888888888888888,\"#fdca26\"],[1.0,\"#f0f921\"]]}],\"surface\":[{\"type\":\"surface\",\"colorbar\":{\"outlinewidth\":0,\"ticks\":\"\"},\"colorscale\":[[0.0,\"#0d0887\"],[0.1111111111111111,\"#46039f\"],[0.2222222222222222,\"#7201a8\"],[0.3333333333333333,\"#9c179e\"],[0.4444444444444444,\"#bd3786\"],[0.5555555555555556,\"#d8576b\"],[0.6666666666666666,\"#ed7953\"],[0.7777777777777778,\"#fb9f3a\"],[0.8888888888888888,\"#fdca26\"],[1.0,\"#f0f921\"]]}],\"mesh3d\":[{\"type\":\"mesh3d\",\"colorbar\":{\"outlinewidth\":0,\"ticks\":\"\"}}],\"scatter\":[{\"fillpattern\":{\"fillmode\":\"overlay\",\"size\":10,\"solidity\":0.2},\"type\":\"scatter\"}],\"parcoords\":[{\"type\":\"parcoords\",\"line\":{\"colorbar\":{\"outlinewidth\":0,\"ticks\":\"\"}}}],\"scatterpolargl\":[{\"type\":\"scatterpolargl\",\"marker\":{\"colorbar\":{\"outlinewidth\":0,\"ticks\":\"\"}}}],\"bar\":[{\"error_x\":{\"color\":\"#2a3f5f\"},\"error_y\":{\"color\":\"#2a3f5f\"},\"marker\":{\"line\":{\"color\":\"#E5ECF6\",\"width\":0.5},\"pattern\":{\"fillmode\":\"overlay\",\"size\":10,\"solidity\":0.2}},\"type\":\"bar\"}],\"scattergeo\":[{\"type\":\"scattergeo\",\"marker\":{\"colorbar\":{\"outlinewidth\":0,\"ticks\":\"\"}}}],\"scatterpolar\":[{\"type\":\"scatterpolar\",\"marker\":{\"colorbar\":{\"outlinewidth\":0,\"ticks\":\"\"}}}],\"histogram\":[{\"marker\":{\"pattern\":{\"fillmode\":\"overlay\",\"size\":10,\"solidity\":0.2}},\"type\":\"histogram\"}],\"scattergl\":[{\"type\":\"scattergl\",\"marker\":{\"colorbar\":{\"outlinewidth\":0,\"ticks\":\"\"}}}],\"scatter3d\":[{\"type\":\"scatter3d\",\"line\":{\"colorbar\":{\"outlinewidth\":0,\"ticks\":\"\"}},\"marker\":{\"colorbar\":{\"outlinewidth\":0,\"ticks\":\"\"}}}],\"scattermapbox\":[{\"type\":\"scattermapbox\",\"marker\":{\"colorbar\":{\"outlinewidth\":0,\"ticks\":\"\"}}}],\"scatterternary\":[{\"type\":\"scatterternary\",\"marker\":{\"colorbar\":{\"outlinewidth\":0,\"ticks\":\"\"}}}],\"scattercarpet\":[{\"type\":\"scattercarpet\",\"marker\":{\"colorbar\":{\"outlinewidth\":0,\"ticks\":\"\"}}}],\"carpet\":[{\"aaxis\":{\"endlinecolor\":\"#2a3f5f\",\"gridcolor\":\"white\",\"linecolor\":\"white\",\"minorgridcolor\":\"white\",\"startlinecolor\":\"#2a3f5f\"},\"baxis\":{\"endlinecolor\":\"#2a3f5f\",\"gridcolor\":\"white\",\"linecolor\":\"white\",\"minorgridcolor\":\"white\",\"startlinecolor\":\"#2a3f5f\"},\"type\":\"carpet\"}],\"table\":[{\"cells\":{\"fill\":{\"color\":\"#EBF0F8\"},\"line\":{\"color\":\"white\"}},\"header\":{\"fill\":{\"color\":\"#C8D4E3\"},\"line\":{\"color\":\"white\"}},\"type\":\"table\"}],\"barpolar\":[{\"marker\":{\"line\":{\"color\":\"#E5ECF6\",\"width\":0.5},\"pattern\":{\"fillmode\":\"overlay\",\"size\":10,\"solidity\":0.2}},\"type\":\"barpolar\"}],\"pie\":[{\"automargin\":true,\"type\":\"pie\"}]},\"layout\":{\"autotypenumbers\":\"strict\",\"colorway\":[\"#636efa\",\"#EF553B\",\"#00cc96\",\"#ab63fa\",\"#FFA15A\",\"#19d3f3\",\"#FF6692\",\"#B6E880\",\"#FF97FF\",\"#FECB52\"],\"font\":{\"color\":\"#2a3f5f\"},\"hovermode\":\"closest\",\"hoverlabel\":{\"align\":\"left\"},\"paper_bgcolor\":\"white\",\"plot_bgcolor\":\"#E5ECF6\",\"polar\":{\"bgcolor\":\"#E5ECF6\",\"angularaxis\":{\"gridcolor\":\"white\",\"linecolor\":\"white\",\"ticks\":\"\"},\"radialaxis\":{\"gridcolor\":\"white\",\"linecolor\":\"white\",\"ticks\":\"\"}},\"ternary\":{\"bgcolor\":\"#E5ECF6\",\"aaxis\":{\"gridcolor\":\"white\",\"linecolor\":\"white\",\"ticks\":\"\"},\"baxis\":{\"gridcolor\":\"white\",\"linecolor\":\"white\",\"ticks\":\"\"},\"caxis\":{\"gridcolor\":\"white\",\"linecolor\":\"white\",\"ticks\":\"\"}},\"coloraxis\":{\"colorbar\":{\"outlinewidth\":0,\"ticks\":\"\"}},\"colorscale\":{\"sequential\":[[0.0,\"#0d0887\"],[0.1111111111111111,\"#46039f\"],[0.2222222222222222,\"#7201a8\"],[0.3333333333333333,\"#9c179e\"],[0.4444444444444444,\"#bd3786\"],[0.5555555555555556,\"#d8576b\"],[0.6666666666666666,\"#ed7953\"],[0.7777777777777778,\"#fb9f3a\"],[0.8888888888888888,\"#fdca26\"],[1.0,\"#f0f921\"]],\"sequentialminus\":[[0.0,\"#0d0887\"],[0.1111111111111111,\"#46039f\"],[0.2222222222222222,\"#7201a8\"],[0.3333333333333333,\"#9c179e\"],[0.4444444444444444,\"#bd3786\"],[0.5555555555555556,\"#d8576b\"],[0.6666666666666666,\"#ed7953\"],[0.7777777777777778,\"#fb9f3a\"],[0.8888888888888888,\"#fdca26\"],[1.0,\"#f0f921\"]],\"diverging\":[[0,\"#8e0152\"],[0.1,\"#c51b7d\"],[0.2,\"#de77ae\"],[0.3,\"#f1b6da\"],[0.4,\"#fde0ef\"],[0.5,\"#f7f7f7\"],[0.6,\"#e6f5d0\"],[0.7,\"#b8e186\"],[0.8,\"#7fbc41\"],[0.9,\"#4d9221\"],[1,\"#276419\"]]},\"xaxis\":{\"gridcolor\":\"white\",\"linecolor\":\"white\",\"ticks\":\"\",\"title\":{\"standoff\":15},\"zerolinecolor\":\"white\",\"automargin\":true,\"zerolinewidth\":2},\"yaxis\":{\"gridcolor\":\"white\",\"linecolor\":\"white\",\"ticks\":\"\",\"title\":{\"standoff\":15},\"zerolinecolor\":\"white\",\"automargin\":true,\"zerolinewidth\":2},\"scene\":{\"xaxis\":{\"backgroundcolor\":\"#E5ECF6\",\"gridcolor\":\"white\",\"linecolor\":\"white\",\"showbackground\":true,\"ticks\":\"\",\"zerolinecolor\":\"white\",\"gridwidth\":2},\"yaxis\":{\"backgroundcolor\":\"#E5ECF6\",\"gridcolor\":\"white\",\"linecolor\":\"white\",\"showbackground\":true,\"ticks\":\"\",\"zerolinecolor\":\"white\",\"gridwidth\":2},\"zaxis\":{\"backgroundcolor\":\"#E5ECF6\",\"gridcolor\":\"white\",\"linecolor\":\"white\",\"showbackground\":true,\"ticks\":\"\",\"zerolinecolor\":\"white\",\"gridwidth\":2}},\"shapedefaults\":{\"line\":{\"color\":\"#2a3f5f\"}},\"annotationdefaults\":{\"arrowcolor\":\"#2a3f5f\",\"arrowhead\":0,\"arrowwidth\":1},\"geo\":{\"bgcolor\":\"white\",\"landcolor\":\"#E5ECF6\",\"subunitcolor\":\"white\",\"showland\":true,\"showlakes\":true,\"lakecolor\":\"white\"},\"title\":{\"x\":0.05},\"mapbox\":{\"style\":\"light\"}}},\"xaxis\":{\"anchor\":\"y\",\"domain\":[0.0,1.0],\"scaleanchor\":\"y\",\"constrain\":\"domain\"},\"yaxis\":{\"anchor\":\"x\",\"domain\":[0.0,1.0],\"autorange\":\"reversed\",\"constrain\":\"domain\"},\"coloraxis\":{\"colorscale\":[[0.0,\"#0d0887\"],[0.1111111111111111,\"#46039f\"],[0.2222222222222222,\"#7201a8\"],[0.3333333333333333,\"#9c179e\"],[0.4444444444444444,\"#bd3786\"],[0.5555555555555556,\"#d8576b\"],[0.6666666666666666,\"#ed7953\"],[0.7777777777777778,\"#fb9f3a\"],[0.8888888888888888,\"#fdca26\"],[1.0,\"#f0f921\"]]},\"margin\":{\"t\":60},\"title\":{\"font\":{\"size\":24},\"text\":\"Kendall Correlation of 2023 Features: Playlists, Charts\"}},                        {\"responsive\": true}                    ).then(function(){\n",
       "                            \n",
       "var gd = document.getElementById('4b4dbf5c-9aa4-40d9-84fa-2dfa43a171a1');\n",
       "var x = new MutationObserver(function (mutations, observer) {{\n",
       "        var display = window.getComputedStyle(gd).display;\n",
       "        if (!display || display === 'none') {{\n",
       "            console.log([gd, 'removed!']);\n",
       "            Plotly.purge(gd);\n",
       "            observer.disconnect();\n",
       "        }}\n",
       "}});\n",
       "\n",
       "// Listen for the removal of the full notebook cells\n",
       "var notebookContainer = gd.closest('#notebook-container');\n",
       "if (notebookContainer) {{\n",
       "    x.observe(notebookContainer, {childList: true});\n",
       "}}\n",
       "\n",
       "// Listen for the clearing of the current output cell\n",
       "var outputEl = gd.closest('.output');\n",
       "if (outputEl) {{\n",
       "    x.observe(outputEl, {childList: true});\n",
       "}}\n",
       "\n",
       "                        })                };                });            </script>        </div>"
      ]
     },
     "metadata": {},
     "output_type": "display_data"
    }
   ],
   "source": [
    "cols: list[str] = [\n",
    "    \"streams\", \"artist_count\", \"released_year\", \"released_month\", \"released_day\", \"in_spotify_playlists\",\n",
    "    \"in_spotify_charts\", \"in_apple_playlists\", \"in_apple_charts\", \"in_deezer_playlists\",\n",
    "    \"in_deezer_charts\", \"in_shazam_charts\"\n",
    "]\n",
    "corr_mat = df.loc[:, cols].corr(method=\"kendall\")\n",
    "fig = px.imshow(corr_mat, text_auto=True)\n",
    "fig.update_layout(dict(\n",
    "    title=dict(\n",
    "        text=\"Kendall Correlation of 2023 Features: Playlists, Charts\",\n",
    "        font=dict(\n",
    "            size=24\n",
    "        ),\n",
    "    ),\n",
    "))\n",
    "fig.show()\n",
    "# Save images\n",
    "fig.write_image(f\"./../../images/2023/Correlation-Playlist.png\", width=WIDTH, height=HEIGHT, scale=1.0)"
   ]
  },
  {
   "cell_type": "code",
   "execution_count": 8,
   "metadata": {},
   "outputs": [
    {
     "data": {
      "application/vnd.plotly.v1+json": {
       "config": {
        "plotlyServerURL": "https://plot.ly"
       },
       "data": [
        {
         "coloraxis": "coloraxis",
         "hovertemplate": "x: %{x}<br>y: %{y}<br>color: %{z}<extra></extra>",
         "name": "0",
         "texttemplate": "%{z}",
         "type": "heatmap",
         "x": [
          "streams",
          "artist_count",
          "released_year",
          "released_month",
          "released_day",
          "bpm",
          "danceability_%",
          "valence_%",
          "energy_%",
          "acousticness_%",
          "instrumentalness_%",
          "liveness_%",
          "speechiness_%",
          "key_A",
          "key_A#",
          "key_B",
          "key_C#",
          "key_D",
          "key_D#",
          "key_E",
          "key_F",
          "key_F#",
          "key_G",
          "key_G#",
          "mode_Major",
          "mode_Minor"
         ],
         "xaxis": "x",
         "y": [
          "streams",
          "artist_count",
          "released_year",
          "released_month",
          "released_day",
          "bpm",
          "danceability_%",
          "valence_%",
          "energy_%",
          "acousticness_%",
          "instrumentalness_%",
          "liveness_%",
          "speechiness_%",
          "key_A",
          "key_A#",
          "key_B",
          "key_C#",
          "key_D",
          "key_D#",
          "key_E",
          "key_F",
          "key_F#",
          "key_G",
          "key_G#",
          "mode_Major",
          "mode_Minor"
         ],
         "yaxis": "y",
         "z": [
          [
           1,
           -0.12107250847599486,
           -0.5294006603620843,
           -0.00047500736688890397,
           0.008535431593572904,
           0.0026534782117822965,
           -0.054199937393689356,
           -0.025230727287435344,
           -0.021013212309319542,
           -0.04183585029588718,
           -0.0036868742964581832,
           -0.040440431265988036,
           -0.07495361066292783,
           -0.038577852804635736,
           0.01656252419593727,
           -0.010333300378979145,
           0.02452962026871911,
           0.017307784191177306,
           0.013798062962313607,
           0.015305779128854271,
           -0.015536349211463001,
           0.0024846917611502555,
           -0.017978431419524495,
           -0.002426532571145368,
           0.04318281056152205,
           -0.04318281056152205
          ],
          [
           -0.12107250847599486,
           1,
           0.16634850006050594,
           0.027759157507312955,
           -0.0008154011549073082,
           -0.038654366770310984,
           0.19689000330495943,
           0.10192440732483618,
           0.12123871501956193,
           -0.049603542481867505,
           -0.07073849702511134,
           0.030582308619973454,
           0.14480637435207766,
           0.01684099666278838,
           -0.050164107484684604,
           0.0833463319226375,
           0.04893517331713559,
           -0.025048517527499304,
           0.014883851120395874,
           -0.039109647172900774,
           -0.03111417823433376,
           0.005442762201683109,
           -0.0030211507486387506,
           -0.03279330745223943,
           -0.08480404436567004,
           0.08480404436567004
          ],
          [
           -0.5294006603620843,
           0.16634850006050594,
           1,
           -0.10329668207075501,
           0.07649823666919539,
           0.024226243933722087,
           0.1453400620240421,
           0.053505458032951245,
           0.05979111294722219,
           0.010937833680194362,
           -0.04444221129795731,
           0.06155556299309695,
           0.09120215577409595,
           0.011818059957618336,
           0.001558700338669749,
           0.050508345490653514,
           -0.02530470796816619,
           -0.03630990503716271,
           -0.029239983681918737,
           -0.03086519598586524,
           0.021692830021163345,
           0.013064049289903385,
           0.026687540140826284,
           -0.01350401787507892,
           -0.07944875931829654,
           0.07944875931829654
          ],
          [
           -0.00047500736688890397,
           0.027759157507312955,
           -0.10329668207075501,
           1,
           0.07073510121948674,
           -0.022287952339061997,
           -0.025832326191465214,
           -0.08219586895361909,
           -0.04999850690820411,
           0.02840257585908463,
           0.048636081417162254,
           -0.009517419532675007,
           0.048969218764807074,
           -0.032203772467352454,
           -0.013102873607375217,
           0.0014346700644145708,
           0.001924646216112573,
           -0.015257164338870336,
           0.01884542140698842,
           0.031670630984132635,
           -0.006845795111176153,
           -0.0333087191229115,
           0.029570492602414997,
           0.019380648607544904,
           0.04933963015095119,
           -0.04933963015095119
          ],
          [
           0.008535431593572904,
           -0.0008154011549073082,
           0.07649823666919539,
           0.07073510121948674,
           1,
           -0.02486682516502232,
           0.03726390874889021,
           0.029599068105063322,
           0.03579237344195015,
           0.005425436121298494,
           -0.00859715035324379,
           0.0036348208916068096,
           0.022296348130501163,
           -0.06355699269026892,
           0.0005747588642870955,
           0.01793184134824635,
           -0.028418855579048892,
           -0.0032591155180432783,
           0.0270603542705206,
           -0.0014009926391388085,
           -0.023375598848904958,
           0.04170304697531359,
           0.04309967177935379,
           0.0014264158103744588,
           -0.004811304684913764,
           0.004811304684913764
          ],
          [
           0.0026534782117822965,
           -0.038654366770310984,
           0.024226243933722087,
           -0.022287952339061997,
           -0.02486682516502232,
           1,
           -0.08404546511152458,
           0.028890635011389835,
           0.021186634986178052,
           -0.02373563590541513,
           -0.03248760581617698,
           0.000202402792653759,
           0.03113842400908697,
           0.04620540281312813,
           -0.03079336134739244,
           -0.008696190766634417,
           -0.006549920138883928,
           0.013620061337696826,
           0.010827172073055433,
           -0.0019282087050096302,
           -0.023970413365891008,
           0.018691718115153313,
           -0.010319088166294869,
           -0.0025514929182629794,
           0.014272874263220837,
           -0.014272874263220837
          ],
          [
           -0.054199937393689356,
           0.19689000330495943,
           0.1453400620240421,
           -0.025832326191465214,
           0.03726390874889021,
           -0.08404546511152458,
           1,
           0.27186507320693526,
           0.09908823733144997,
           -0.09891920653489127,
           -0.05951513449510791,
           -0.06452550992688358,
           0.20250149391855748,
           -0.03901431895409728,
           0.029830529124782085,
           0.05082824516701101,
           0.032783245133553664,
           -0.00031211491022334955,
           -0.021900058997202338,
           -0.03886106577174941,
           -0.009552185832623261,
           0.00343795642221859,
           0.0018109393482512147,
           -0.022392468459347004,
           -0.11860108474596659,
           0.11860108474596659
          ],
          [
           -0.025230727287435344,
           0.10192440732483618,
           0.053505458032951245,
           -0.08219586895361909,
           0.029599068105063322,
           0.028890635011389835,
           0.27186507320693526,
           1,
           0.2455519117908476,
           -0.012511067928063132,
           -0.11256888979615756,
           -0.009054995879139955,
           0.07500349053752337,
           -0.04412933730872779,
           0.012995201441327557,
           0.029383415721021055,
           -0.0187451669003241,
           -0.020794519001487672,
           -0.03279300843189278,
           -0.09794074159669257,
           0.01630140928815238,
           0.0927477462789638,
           0.02533514189453272,
           0.019645741859116814,
           -0.054659682002156415,
           0.054659682002156415
          ],
          [
           -0.021013212309319542,
           0.12123871501956193,
           0.05979111294722219,
           -0.04999850690820411,
           0.03579237344195015,
           0.021186634986178052,
           0.09908823733144997,
           0.2455519117908476,
           1,
           -0.3383607433037996,
           -0.04314945815823628,
           0.03245566731637632,
           0.061773938654147126,
           -0.05794964913961891,
           -0.028738148368425174,
           0.06004210292110726,
           0.04741291778497146,
           -0.020086981416836083,
           -0.019096969467799846,
           -0.024975367244622893,
           -0.004101757347368612,
           0.0371049700794163,
           -0.009029867478311073,
           -0.0023362749627045217,
           -0.03704616431083782,
           0.03704616431083782
          ],
          [
           -0.04183585029588718,
           -0.049603542481867505,
           0.010937833680194362,
           0.02840257585908463,
           0.005425436121298494,
           -0.02373563590541513,
           -0.09891920653489127,
           -0.012511067928063132,
           -0.3383607433037996,
           1,
           0.03992007088824385,
           -0.018904133039663,
           -0.032586691448894076,
           0.009661840953234682,
           0.008243589816156612,
           -0.027261478513297053,
           -0.07047409192208862,
           -0.005945181108528475,
           0.019765233716160565,
           0.0395699187009174,
           0.029824166056344335,
           0.05238480341406968,
           0.0026925477099126087,
           -0.029987196940189847,
           0.02573495132620221,
           -0.02573495132620221
          ],
          [
           -0.0036868742964581832,
           -0.07073849702511134,
           -0.04444221129795731,
           0.048636081417162254,
           -0.00859715035324379,
           -0.03248760581617698,
           -0.05951513449510791,
           -0.11256888979615756,
           -0.04314945815823628,
           0.03992007088824385,
           1,
           -0.027197510194175534,
           -0.10449475018500758,
           0.03236106567244016,
           -0.05016083930044793,
           0.04889257552536019,
           -0.03105689572386334,
           -0.02993974624853764,
           0.019968567796537044,
           0.021708246093151588,
           0.014759376048521582,
           0.017546193997510763,
           -0.04414122979869569,
           0.011822088276767463,
           -0.0015888631669786731,
           0.0015888631669786731
          ],
          [
           -0.040440431265988036,
           0.030582308619973454,
           0.06155556299309695,
           -0.009517419532675007,
           0.0036348208916068096,
           0.000202402792653759,
           -0.06452550992688358,
           -0.009054995879139955,
           0.03245566731637632,
           -0.018904133039663,
           -0.027197510194175534,
           1,
           -0.014868774769783053,
           -0.005466655143101827,
           -0.014360821569059674,
           0.008890742667289299,
           -0.037639716437747224,
           0.005900220133746535,
           -0.014828654468394644,
           0.022438135444482168,
           0.008984338051570227,
           -0.008293898879276519,
           -0.004698095777879265,
           0.038803664832091515,
           0.000381293166175888,
           -0.000381293166175888
          ],
          [
           -0.07495361066292783,
           0.14480637435207766,
           0.09120215577409595,
           0.048969218764807074,
           0.022296348130501163,
           0.03113842400908697,
           0.20250149391855748,
           0.07500349053752337,
           0.061773938654147126,
           -0.032586691448894076,
           -0.10449475018500758,
           -0.014868774769783053,
           1,
           -0.05348292492096793,
           0.04975109649292532,
           -0.008206159796063916,
           0.06937066461296942,
           -0.04854105437722107,
           -0.0007542751140240415,
           -0.03001864408387114,
           -0.025748590449628964,
           0.01858632432159593,
           -0.02479064945412689,
           0.04431430315892413,
           -0.12617081451339396,
           0.12617081451339396
          ],
          [
           -0.038577852804635736,
           0.01684099666278838,
           0.011818059957618336,
           -0.032203772467352454,
           -0.06355699269026892,
           0.04620540281312813,
           -0.03901431895409728,
           -0.04412933730872779,
           -0.05794964913961891,
           0.009661840953234682,
           0.03236106567244016,
           -0.005466655143101827,
           -0.05348292492096793,
           1,
           -0.08256023499950925,
           -0.09992674723486711,
           -0.12479931246750554,
           -0.09992674723486711,
           -0.06189844605901729,
           -0.08637519911770214,
           -0.10528865650811575,
           -0.09437921317039913,
           -0.10985197806642237,
           -0.10660381939696217,
           0.0039763455425860465,
           -0.0039763455425860465
          ],
          [
           0.01656252419593727,
           -0.050164107484684604,
           0.001558700338669749,
           -0.013102873607375217,
           0.0005747588642870955,
           -0.03079336134739244,
           0.029830529124782085,
           0.012995201441327557,
           -0.028738148368425174,
           0.008243589816156612,
           -0.05016083930044793,
           -0.014360821569059674,
           0.04975109649292532,
           -0.08256023499950925,
           1,
           -0.08612974666762865,
           -0.10756812829958598,
           -0.08612974666762865,
           -0.05335205663857339,
           -0.07444927633727516,
           -0.09075133097952723,
           -0.08134816699227275,
           -0.09468458949795057,
           -0.0918849078203381,
           -0.04289096255621009,
           0.04289096255621009
          ],
          [
           -0.010333300378979145,
           0.0833463319226375,
           0.050508345490653514,
           0.0014346700644145708,
           0.01793184134824635,
           -0.008696190766634417,
           0.05082824516701101,
           0.029383415721021055,
           0.06004210292110726,
           -0.027261478513297053,
           0.04889257552536019,
           0.008890742667289299,
           -0.008206159796063916,
           -0.09992674723486711,
           -0.08612974666762865,
           1,
           -0.13019504083514755,
           -0.10424710424710423,
           -0.06457464030007577,
           -0.09010965167938159,
           -0.10984083696070979,
           -0.09845972120967095,
           -0.11460145482695269,
           -0.11121286123418335,
           -0.07892242903255771,
           0.07892242903255771
          ],
          [
           0.02452962026871911,
           0.04893517331713559,
           -0.02530470796816619,
           0.001924646216112573,
           -0.028418855579048892,
           -0.006549920138883928,
           0.032783245133553664,
           -0.0187451669003241,
           0.04741291778497146,
           -0.07047409192208862,
           -0.03105689572386334,
           -0.037639716437747224,
           0.06937066461296942,
           -0.12479931246750554,
           -0.10756812829958598,
           -0.13019504083514755,
           1,
           -0.13019504083514752,
           -0.0806477838545512,
           -0.11253866344554975,
           -0.1371810982832517,
           -0.12296713195145113,
           -0.14312667194663953,
           -0.13889463035305658,
           0.04438659667253664,
           -0.04438659667253664
          ],
          [
           0.017307784191177306,
           -0.025048517527499304,
           -0.03630990503716271,
           -0.015257164338870336,
           -0.0032591155180432783,
           0.013620061337696826,
           -0.00031211491022334955,
           -0.020794519001487672,
           -0.020086981416836083,
           -0.005945181108528475,
           -0.02993974624853764,
           0.005900220133746535,
           -0.04854105437722107,
           -0.09992674723486711,
           -0.08612974666762865,
           -0.10424710424710423,
           -0.13019504083514752,
           1,
           -0.06457464030007577,
           -0.09010965167938159,
           -0.10984083696070979,
           -0.09845972120967095,
           -0.11460145482695269,
           -0.11121286123418335,
           0.16964817693641449,
           -0.16964817693641449
          ],
          [
           0.013798062962313607,
           0.014883851120395874,
           -0.029239983681918737,
           0.01884542140698842,
           0.0270603542705206,
           0.010827172073055433,
           -0.021900058997202338,
           -0.03279300843189278,
           -0.019096969467799846,
           0.019765233716160565,
           0.019968567796537044,
           -0.014828654468394644,
           -0.0007542751140240415,
           -0.06189844605901729,
           -0.05335205663857339,
           -0.06457464030007577,
           -0.0806477838545512,
           -0.06457464030007577,
           1,
           -0.055817361899746176,
           -0.06803961211415739,
           -0.06098971407483344,
           -0.07098852075328911,
           -0.0688894963827172,
           -0.07643132847900673,
           0.07643132847900673
          ],
          [
           0.015305779128854271,
           -0.039109647172900774,
           -0.03086519598586524,
           0.031670630984132635,
           -0.0014009926391388085,
           -0.0019282087050096302,
           -0.03886106577174941,
           -0.09794074159669257,
           -0.024975367244622893,
           0.0395699187009174,
           0.021708246093151588,
           0.022438135444482168,
           -0.03001864408387114,
           -0.08637519911770214,
           -0.07444927633727516,
           -0.09010965167938159,
           -0.11253866344554975,
           -0.09010965167938159,
           -0.055817361899746176,
           1,
           -0.09494479132235692,
           -0.08510712356692553,
           -0.0990597988403495,
           -0.09613074876713452,
           -0.1568689993475372,
           0.1568689993475372
          ],
          [
           -0.015536349211463001,
           -0.03111417823433376,
           0.021692830021163345,
           -0.006845795111176153,
           -0.023375598848904958,
           -0.023970413365891008,
           -0.009552185832623261,
           0.01630140928815238,
           -0.004101757347368612,
           0.029824166056344335,
           0.014759376048521582,
           0.008984338051570227,
           -0.025748590449628964,
           -0.10528865650811575,
           -0.09075133097952723,
           -0.10984083696070979,
           -0.1371810982832517,
           -0.10984083696070979,
           -0.06803961211415739,
           -0.09494479132235692,
           1,
           -0.10374291221512581,
           -0.12075078541529005,
           -0.11718036531549317,
           -0.04053425755938,
           0.04053425755938
          ],
          [
           0.0024846917611502555,
           0.005442762201683109,
           0.013064049289903385,
           -0.0333087191229115,
           0.04170304697531359,
           0.018691718115153313,
           0.00343795642221859,
           0.0927477462789638,
           0.0371049700794163,
           0.05238480341406968,
           0.017546193997510763,
           -0.008293898879276519,
           0.01858632432159593,
           -0.09437921317039913,
           -0.08134816699227275,
           -0.09845972120967095,
           -0.12296713195145113,
           -0.09845972120967095,
           -0.06098971407483344,
           -0.08510712356692553,
           -0.10374291221512581,
           1,
           -0.10823923958346206,
           -0.10503876717852985,
           -0.08750887619984771,
           0.08750887619984771
          ],
          [
           -0.017978431419524495,
           -0.0030211507486387506,
           0.026687540140826284,
           0.029570492602414997,
           0.04309967177935379,
           -0.010319088166294869,
           0.0018109393482512147,
           0.02533514189453272,
           -0.009029867478311073,
           0.0026925477099126087,
           -0.04414122979869569,
           -0.004698095777879265,
           -0.02479064945412689,
           -0.10985197806642237,
           -0.09468458949795057,
           -0.11460145482695269,
           -0.14312667194663953,
           -0.11460145482695269,
           -0.07098852075328911,
           -0.0990597988403495,
           -0.12075078541529005,
           -0.10823923958346206,
           1,
           -0.12225908609120388,
           0.09559550316623501,
           -0.09559550316623501
          ],
          [
           -0.002426532571145368,
           -0.03279330745223943,
           -0.01350401787507892,
           0.019380648607544904,
           0.0014264158103744588,
           -0.0025514929182629794,
           -0.022392468459347004,
           0.019645741859116814,
           -0.0023362749627045217,
           -0.029987196940189847,
           0.011822088276767463,
           0.038803664832091515,
           0.04431430315892413,
           -0.10660381939696217,
           -0.0918849078203381,
           -0.11121286123418335,
           -0.13889463035305658,
           -0.11121286123418335,
           -0.0688894963827172,
           -0.09613074876713452,
           -0.11718036531549317,
           -0.10503876717852985,
           -0.12225908609120388,
           1,
           0.09610008765136743,
           -0.09610008765136743
          ],
          [
           0.04318281056152205,
           -0.08480404436567004,
           -0.07944875931829654,
           0.04933963015095119,
           -0.004811304684913764,
           0.014272874263220837,
           -0.11860108474596659,
           -0.054659682002156415,
           -0.03704616431083782,
           0.02573495132620221,
           -0.0015888631669786731,
           0.000381293166175888,
           -0.12617081451339396,
           0.0039763455425860465,
           -0.04289096255621009,
           -0.07892242903255771,
           0.04438659667253664,
           0.16964817693641449,
           -0.07643132847900673,
           -0.1568689993475372,
           -0.04053425755938,
           -0.08750887619984771,
           0.09559550316623501,
           0.09610008765136743,
           1,
           -0.9999999999999999
          ],
          [
           -0.04318281056152205,
           0.08480404436567004,
           0.07944875931829654,
           -0.04933963015095119,
           0.004811304684913764,
           -0.014272874263220837,
           0.11860108474596659,
           0.054659682002156415,
           0.03704616431083782,
           -0.02573495132620221,
           0.0015888631669786731,
           -0.000381293166175888,
           0.12617081451339396,
           -0.0039763455425860465,
           0.04289096255621009,
           0.07892242903255771,
           -0.04438659667253664,
           -0.16964817693641449,
           0.07643132847900673,
           0.1568689993475372,
           0.04053425755938,
           0.08750887619984771,
           -0.09559550316623501,
           -0.09610008765136743,
           -0.9999999999999999,
           1
          ]
         ]
        }
       ],
       "layout": {
        "coloraxis": {
         "colorscale": [
          [
           0,
           "#0d0887"
          ],
          [
           0.1111111111111111,
           "#46039f"
          ],
          [
           0.2222222222222222,
           "#7201a8"
          ],
          [
           0.3333333333333333,
           "#9c179e"
          ],
          [
           0.4444444444444444,
           "#bd3786"
          ],
          [
           0.5555555555555556,
           "#d8576b"
          ],
          [
           0.6666666666666666,
           "#ed7953"
          ],
          [
           0.7777777777777778,
           "#fb9f3a"
          ],
          [
           0.8888888888888888,
           "#fdca26"
          ],
          [
           1,
           "#f0f921"
          ]
         ]
        },
        "margin": {
         "t": 60
        },
        "template": {
         "data": {
          "bar": [
           {
            "error_x": {
             "color": "#2a3f5f"
            },
            "error_y": {
             "color": "#2a3f5f"
            },
            "marker": {
             "line": {
              "color": "#E5ECF6",
              "width": 0.5
             },
             "pattern": {
              "fillmode": "overlay",
              "size": 10,
              "solidity": 0.2
             }
            },
            "type": "bar"
           }
          ],
          "barpolar": [
           {
            "marker": {
             "line": {
              "color": "#E5ECF6",
              "width": 0.5
             },
             "pattern": {
              "fillmode": "overlay",
              "size": 10,
              "solidity": 0.2
             }
            },
            "type": "barpolar"
           }
          ],
          "carpet": [
           {
            "aaxis": {
             "endlinecolor": "#2a3f5f",
             "gridcolor": "white",
             "linecolor": "white",
             "minorgridcolor": "white",
             "startlinecolor": "#2a3f5f"
            },
            "baxis": {
             "endlinecolor": "#2a3f5f",
             "gridcolor": "white",
             "linecolor": "white",
             "minorgridcolor": "white",
             "startlinecolor": "#2a3f5f"
            },
            "type": "carpet"
           }
          ],
          "choropleth": [
           {
            "colorbar": {
             "outlinewidth": 0,
             "ticks": ""
            },
            "type": "choropleth"
           }
          ],
          "contour": [
           {
            "colorbar": {
             "outlinewidth": 0,
             "ticks": ""
            },
            "colorscale": [
             [
              0,
              "#0d0887"
             ],
             [
              0.1111111111111111,
              "#46039f"
             ],
             [
              0.2222222222222222,
              "#7201a8"
             ],
             [
              0.3333333333333333,
              "#9c179e"
             ],
             [
              0.4444444444444444,
              "#bd3786"
             ],
             [
              0.5555555555555556,
              "#d8576b"
             ],
             [
              0.6666666666666666,
              "#ed7953"
             ],
             [
              0.7777777777777778,
              "#fb9f3a"
             ],
             [
              0.8888888888888888,
              "#fdca26"
             ],
             [
              1,
              "#f0f921"
             ]
            ],
            "type": "contour"
           }
          ],
          "contourcarpet": [
           {
            "colorbar": {
             "outlinewidth": 0,
             "ticks": ""
            },
            "type": "contourcarpet"
           }
          ],
          "heatmap": [
           {
            "colorbar": {
             "outlinewidth": 0,
             "ticks": ""
            },
            "colorscale": [
             [
              0,
              "#0d0887"
             ],
             [
              0.1111111111111111,
              "#46039f"
             ],
             [
              0.2222222222222222,
              "#7201a8"
             ],
             [
              0.3333333333333333,
              "#9c179e"
             ],
             [
              0.4444444444444444,
              "#bd3786"
             ],
             [
              0.5555555555555556,
              "#d8576b"
             ],
             [
              0.6666666666666666,
              "#ed7953"
             ],
             [
              0.7777777777777778,
              "#fb9f3a"
             ],
             [
              0.8888888888888888,
              "#fdca26"
             ],
             [
              1,
              "#f0f921"
             ]
            ],
            "type": "heatmap"
           }
          ],
          "heatmapgl": [
           {
            "colorbar": {
             "outlinewidth": 0,
             "ticks": ""
            },
            "colorscale": [
             [
              0,
              "#0d0887"
             ],
             [
              0.1111111111111111,
              "#46039f"
             ],
             [
              0.2222222222222222,
              "#7201a8"
             ],
             [
              0.3333333333333333,
              "#9c179e"
             ],
             [
              0.4444444444444444,
              "#bd3786"
             ],
             [
              0.5555555555555556,
              "#d8576b"
             ],
             [
              0.6666666666666666,
              "#ed7953"
             ],
             [
              0.7777777777777778,
              "#fb9f3a"
             ],
             [
              0.8888888888888888,
              "#fdca26"
             ],
             [
              1,
              "#f0f921"
             ]
            ],
            "type": "heatmapgl"
           }
          ],
          "histogram": [
           {
            "marker": {
             "pattern": {
              "fillmode": "overlay",
              "size": 10,
              "solidity": 0.2
             }
            },
            "type": "histogram"
           }
          ],
          "histogram2d": [
           {
            "colorbar": {
             "outlinewidth": 0,
             "ticks": ""
            },
            "colorscale": [
             [
              0,
              "#0d0887"
             ],
             [
              0.1111111111111111,
              "#46039f"
             ],
             [
              0.2222222222222222,
              "#7201a8"
             ],
             [
              0.3333333333333333,
              "#9c179e"
             ],
             [
              0.4444444444444444,
              "#bd3786"
             ],
             [
              0.5555555555555556,
              "#d8576b"
             ],
             [
              0.6666666666666666,
              "#ed7953"
             ],
             [
              0.7777777777777778,
              "#fb9f3a"
             ],
             [
              0.8888888888888888,
              "#fdca26"
             ],
             [
              1,
              "#f0f921"
             ]
            ],
            "type": "histogram2d"
           }
          ],
          "histogram2dcontour": [
           {
            "colorbar": {
             "outlinewidth": 0,
             "ticks": ""
            },
            "colorscale": [
             [
              0,
              "#0d0887"
             ],
             [
              0.1111111111111111,
              "#46039f"
             ],
             [
              0.2222222222222222,
              "#7201a8"
             ],
             [
              0.3333333333333333,
              "#9c179e"
             ],
             [
              0.4444444444444444,
              "#bd3786"
             ],
             [
              0.5555555555555556,
              "#d8576b"
             ],
             [
              0.6666666666666666,
              "#ed7953"
             ],
             [
              0.7777777777777778,
              "#fb9f3a"
             ],
             [
              0.8888888888888888,
              "#fdca26"
             ],
             [
              1,
              "#f0f921"
             ]
            ],
            "type": "histogram2dcontour"
           }
          ],
          "mesh3d": [
           {
            "colorbar": {
             "outlinewidth": 0,
             "ticks": ""
            },
            "type": "mesh3d"
           }
          ],
          "parcoords": [
           {
            "line": {
             "colorbar": {
              "outlinewidth": 0,
              "ticks": ""
             }
            },
            "type": "parcoords"
           }
          ],
          "pie": [
           {
            "automargin": true,
            "type": "pie"
           }
          ],
          "scatter": [
           {
            "fillpattern": {
             "fillmode": "overlay",
             "size": 10,
             "solidity": 0.2
            },
            "type": "scatter"
           }
          ],
          "scatter3d": [
           {
            "line": {
             "colorbar": {
              "outlinewidth": 0,
              "ticks": ""
             }
            },
            "marker": {
             "colorbar": {
              "outlinewidth": 0,
              "ticks": ""
             }
            },
            "type": "scatter3d"
           }
          ],
          "scattercarpet": [
           {
            "marker": {
             "colorbar": {
              "outlinewidth": 0,
              "ticks": ""
             }
            },
            "type": "scattercarpet"
           }
          ],
          "scattergeo": [
           {
            "marker": {
             "colorbar": {
              "outlinewidth": 0,
              "ticks": ""
             }
            },
            "type": "scattergeo"
           }
          ],
          "scattergl": [
           {
            "marker": {
             "colorbar": {
              "outlinewidth": 0,
              "ticks": ""
             }
            },
            "type": "scattergl"
           }
          ],
          "scattermapbox": [
           {
            "marker": {
             "colorbar": {
              "outlinewidth": 0,
              "ticks": ""
             }
            },
            "type": "scattermapbox"
           }
          ],
          "scatterpolar": [
           {
            "marker": {
             "colorbar": {
              "outlinewidth": 0,
              "ticks": ""
             }
            },
            "type": "scatterpolar"
           }
          ],
          "scatterpolargl": [
           {
            "marker": {
             "colorbar": {
              "outlinewidth": 0,
              "ticks": ""
             }
            },
            "type": "scatterpolargl"
           }
          ],
          "scatterternary": [
           {
            "marker": {
             "colorbar": {
              "outlinewidth": 0,
              "ticks": ""
             }
            },
            "type": "scatterternary"
           }
          ],
          "surface": [
           {
            "colorbar": {
             "outlinewidth": 0,
             "ticks": ""
            },
            "colorscale": [
             [
              0,
              "#0d0887"
             ],
             [
              0.1111111111111111,
              "#46039f"
             ],
             [
              0.2222222222222222,
              "#7201a8"
             ],
             [
              0.3333333333333333,
              "#9c179e"
             ],
             [
              0.4444444444444444,
              "#bd3786"
             ],
             [
              0.5555555555555556,
              "#d8576b"
             ],
             [
              0.6666666666666666,
              "#ed7953"
             ],
             [
              0.7777777777777778,
              "#fb9f3a"
             ],
             [
              0.8888888888888888,
              "#fdca26"
             ],
             [
              1,
              "#f0f921"
             ]
            ],
            "type": "surface"
           }
          ],
          "table": [
           {
            "cells": {
             "fill": {
              "color": "#EBF0F8"
             },
             "line": {
              "color": "white"
             }
            },
            "header": {
             "fill": {
              "color": "#C8D4E3"
             },
             "line": {
              "color": "white"
             }
            },
            "type": "table"
           }
          ]
         },
         "layout": {
          "annotationdefaults": {
           "arrowcolor": "#2a3f5f",
           "arrowhead": 0,
           "arrowwidth": 1
          },
          "autotypenumbers": "strict",
          "coloraxis": {
           "colorbar": {
            "outlinewidth": 0,
            "ticks": ""
           }
          },
          "colorscale": {
           "diverging": [
            [
             0,
             "#8e0152"
            ],
            [
             0.1,
             "#c51b7d"
            ],
            [
             0.2,
             "#de77ae"
            ],
            [
             0.3,
             "#f1b6da"
            ],
            [
             0.4,
             "#fde0ef"
            ],
            [
             0.5,
             "#f7f7f7"
            ],
            [
             0.6,
             "#e6f5d0"
            ],
            [
             0.7,
             "#b8e186"
            ],
            [
             0.8,
             "#7fbc41"
            ],
            [
             0.9,
             "#4d9221"
            ],
            [
             1,
             "#276419"
            ]
           ],
           "sequential": [
            [
             0,
             "#0d0887"
            ],
            [
             0.1111111111111111,
             "#46039f"
            ],
            [
             0.2222222222222222,
             "#7201a8"
            ],
            [
             0.3333333333333333,
             "#9c179e"
            ],
            [
             0.4444444444444444,
             "#bd3786"
            ],
            [
             0.5555555555555556,
             "#d8576b"
            ],
            [
             0.6666666666666666,
             "#ed7953"
            ],
            [
             0.7777777777777778,
             "#fb9f3a"
            ],
            [
             0.8888888888888888,
             "#fdca26"
            ],
            [
             1,
             "#f0f921"
            ]
           ],
           "sequentialminus": [
            [
             0,
             "#0d0887"
            ],
            [
             0.1111111111111111,
             "#46039f"
            ],
            [
             0.2222222222222222,
             "#7201a8"
            ],
            [
             0.3333333333333333,
             "#9c179e"
            ],
            [
             0.4444444444444444,
             "#bd3786"
            ],
            [
             0.5555555555555556,
             "#d8576b"
            ],
            [
             0.6666666666666666,
             "#ed7953"
            ],
            [
             0.7777777777777778,
             "#fb9f3a"
            ],
            [
             0.8888888888888888,
             "#fdca26"
            ],
            [
             1,
             "#f0f921"
            ]
           ]
          },
          "colorway": [
           "#636efa",
           "#EF553B",
           "#00cc96",
           "#ab63fa",
           "#FFA15A",
           "#19d3f3",
           "#FF6692",
           "#B6E880",
           "#FF97FF",
           "#FECB52"
          ],
          "font": {
           "color": "#2a3f5f"
          },
          "geo": {
           "bgcolor": "white",
           "lakecolor": "white",
           "landcolor": "#E5ECF6",
           "showlakes": true,
           "showland": true,
           "subunitcolor": "white"
          },
          "hoverlabel": {
           "align": "left"
          },
          "hovermode": "closest",
          "mapbox": {
           "style": "light"
          },
          "paper_bgcolor": "white",
          "plot_bgcolor": "#E5ECF6",
          "polar": {
           "angularaxis": {
            "gridcolor": "white",
            "linecolor": "white",
            "ticks": ""
           },
           "bgcolor": "#E5ECF6",
           "radialaxis": {
            "gridcolor": "white",
            "linecolor": "white",
            "ticks": ""
           }
          },
          "scene": {
           "xaxis": {
            "backgroundcolor": "#E5ECF6",
            "gridcolor": "white",
            "gridwidth": 2,
            "linecolor": "white",
            "showbackground": true,
            "ticks": "",
            "zerolinecolor": "white"
           },
           "yaxis": {
            "backgroundcolor": "#E5ECF6",
            "gridcolor": "white",
            "gridwidth": 2,
            "linecolor": "white",
            "showbackground": true,
            "ticks": "",
            "zerolinecolor": "white"
           },
           "zaxis": {
            "backgroundcolor": "#E5ECF6",
            "gridcolor": "white",
            "gridwidth": 2,
            "linecolor": "white",
            "showbackground": true,
            "ticks": "",
            "zerolinecolor": "white"
           }
          },
          "shapedefaults": {
           "line": {
            "color": "#2a3f5f"
           }
          },
          "ternary": {
           "aaxis": {
            "gridcolor": "white",
            "linecolor": "white",
            "ticks": ""
           },
           "baxis": {
            "gridcolor": "white",
            "linecolor": "white",
            "ticks": ""
           },
           "bgcolor": "#E5ECF6",
           "caxis": {
            "gridcolor": "white",
            "linecolor": "white",
            "ticks": ""
           }
          },
          "title": {
           "x": 0.05
          },
          "xaxis": {
           "automargin": true,
           "gridcolor": "white",
           "linecolor": "white",
           "ticks": "",
           "title": {
            "standoff": 15
           },
           "zerolinecolor": "white",
           "zerolinewidth": 2
          },
          "yaxis": {
           "automargin": true,
           "gridcolor": "white",
           "linecolor": "white",
           "ticks": "",
           "title": {
            "standoff": 15
           },
           "zerolinecolor": "white",
           "zerolinewidth": 2
          }
         }
        },
        "title": {
         "font": {
          "size": 24
         },
         "text": "Kendall Correlation of 2023 Features: Track Properties"
        },
        "xaxis": {
         "anchor": "y",
         "constrain": "domain",
         "domain": [
          0,
          1
         ],
         "scaleanchor": "y"
        },
        "yaxis": {
         "anchor": "x",
         "autorange": "reversed",
         "constrain": "domain",
         "domain": [
          0,
          1
         ]
        }
       }
      },
      "text/html": [
       "<div>                            <div id=\"5ce15f2d-13b7-42cf-adfa-24440c62404e\" class=\"plotly-graph-div\" style=\"height:525px; width:100%;\"></div>            <script type=\"text/javascript\">                require([\"plotly\"], function(Plotly) {                    window.PLOTLYENV=window.PLOTLYENV || {};                                    if (document.getElementById(\"5ce15f2d-13b7-42cf-adfa-24440c62404e\")) {                    Plotly.newPlot(                        \"5ce15f2d-13b7-42cf-adfa-24440c62404e\",                        [{\"coloraxis\":\"coloraxis\",\"name\":\"0\",\"texttemplate\":\"%{z}\",\"x\":[\"streams\",\"artist_count\",\"released_year\",\"released_month\",\"released_day\",\"bpm\",\"danceability_%\",\"valence_%\",\"energy_%\",\"acousticness_%\",\"instrumentalness_%\",\"liveness_%\",\"speechiness_%\",\"key_A\",\"key_A#\",\"key_B\",\"key_C#\",\"key_D\",\"key_D#\",\"key_E\",\"key_F\",\"key_F#\",\"key_G\",\"key_G#\",\"mode_Major\",\"mode_Minor\"],\"y\":[\"streams\",\"artist_count\",\"released_year\",\"released_month\",\"released_day\",\"bpm\",\"danceability_%\",\"valence_%\",\"energy_%\",\"acousticness_%\",\"instrumentalness_%\",\"liveness_%\",\"speechiness_%\",\"key_A\",\"key_A#\",\"key_B\",\"key_C#\",\"key_D\",\"key_D#\",\"key_E\",\"key_F\",\"key_F#\",\"key_G\",\"key_G#\",\"mode_Major\",\"mode_Minor\"],\"z\":[[1.0,-0.12107250847599486,-0.5294006603620843,-0.00047500736688890397,0.008535431593572904,0.0026534782117822965,-0.054199937393689356,-0.025230727287435344,-0.021013212309319542,-0.04183585029588718,-0.0036868742964581832,-0.040440431265988036,-0.07495361066292783,-0.038577852804635736,0.01656252419593727,-0.010333300378979145,0.02452962026871911,0.017307784191177306,0.013798062962313607,0.015305779128854271,-0.015536349211463001,0.0024846917611502555,-0.017978431419524495,-0.002426532571145368,0.04318281056152205,-0.04318281056152205],[-0.12107250847599486,1.0,0.16634850006050594,0.027759157507312955,-0.0008154011549073082,-0.038654366770310984,0.19689000330495943,0.10192440732483618,0.12123871501956193,-0.049603542481867505,-0.07073849702511134,0.030582308619973454,0.14480637435207766,0.01684099666278838,-0.050164107484684604,0.0833463319226375,0.04893517331713559,-0.025048517527499304,0.014883851120395874,-0.039109647172900774,-0.03111417823433376,0.005442762201683109,-0.0030211507486387506,-0.03279330745223943,-0.08480404436567004,0.08480404436567004],[-0.5294006603620843,0.16634850006050594,1.0,-0.10329668207075501,0.07649823666919539,0.024226243933722087,0.1453400620240421,0.053505458032951245,0.05979111294722219,0.010937833680194362,-0.04444221129795731,0.06155556299309695,0.09120215577409595,0.011818059957618336,0.001558700338669749,0.050508345490653514,-0.02530470796816619,-0.03630990503716271,-0.029239983681918737,-0.03086519598586524,0.021692830021163345,0.013064049289903385,0.026687540140826284,-0.01350401787507892,-0.07944875931829654,0.07944875931829654],[-0.00047500736688890397,0.027759157507312955,-0.10329668207075501,1.0,0.07073510121948674,-0.022287952339061997,-0.025832326191465214,-0.08219586895361909,-0.04999850690820411,0.02840257585908463,0.048636081417162254,-0.009517419532675007,0.048969218764807074,-0.032203772467352454,-0.013102873607375217,0.0014346700644145708,0.001924646216112573,-0.015257164338870336,0.01884542140698842,0.031670630984132635,-0.006845795111176153,-0.0333087191229115,0.029570492602414997,0.019380648607544904,0.04933963015095119,-0.04933963015095119],[0.008535431593572904,-0.0008154011549073082,0.07649823666919539,0.07073510121948674,1.0,-0.02486682516502232,0.03726390874889021,0.029599068105063322,0.03579237344195015,0.005425436121298494,-0.00859715035324379,0.0036348208916068096,0.022296348130501163,-0.06355699269026892,0.0005747588642870955,0.01793184134824635,-0.028418855579048892,-0.0032591155180432783,0.0270603542705206,-0.0014009926391388085,-0.023375598848904958,0.04170304697531359,0.04309967177935379,0.0014264158103744588,-0.004811304684913764,0.004811304684913764],[0.0026534782117822965,-0.038654366770310984,0.024226243933722087,-0.022287952339061997,-0.02486682516502232,1.0,-0.08404546511152458,0.028890635011389835,0.021186634986178052,-0.02373563590541513,-0.03248760581617698,0.000202402792653759,0.03113842400908697,0.04620540281312813,-0.03079336134739244,-0.008696190766634417,-0.006549920138883928,0.013620061337696826,0.010827172073055433,-0.0019282087050096302,-0.023970413365891008,0.018691718115153313,-0.010319088166294869,-0.0025514929182629794,0.014272874263220837,-0.014272874263220837],[-0.054199937393689356,0.19689000330495943,0.1453400620240421,-0.025832326191465214,0.03726390874889021,-0.08404546511152458,1.0,0.27186507320693526,0.09908823733144997,-0.09891920653489127,-0.05951513449510791,-0.06452550992688358,0.20250149391855748,-0.03901431895409728,0.029830529124782085,0.05082824516701101,0.032783245133553664,-0.00031211491022334955,-0.021900058997202338,-0.03886106577174941,-0.009552185832623261,0.00343795642221859,0.0018109393482512147,-0.022392468459347004,-0.11860108474596659,0.11860108474596659],[-0.025230727287435344,0.10192440732483618,0.053505458032951245,-0.08219586895361909,0.029599068105063322,0.028890635011389835,0.27186507320693526,1.0,0.2455519117908476,-0.012511067928063132,-0.11256888979615756,-0.009054995879139955,0.07500349053752337,-0.04412933730872779,0.012995201441327557,0.029383415721021055,-0.0187451669003241,-0.020794519001487672,-0.03279300843189278,-0.09794074159669257,0.01630140928815238,0.0927477462789638,0.02533514189453272,0.019645741859116814,-0.054659682002156415,0.054659682002156415],[-0.021013212309319542,0.12123871501956193,0.05979111294722219,-0.04999850690820411,0.03579237344195015,0.021186634986178052,0.09908823733144997,0.2455519117908476,1.0,-0.3383607433037996,-0.04314945815823628,0.03245566731637632,0.061773938654147126,-0.05794964913961891,-0.028738148368425174,0.06004210292110726,0.04741291778497146,-0.020086981416836083,-0.019096969467799846,-0.024975367244622893,-0.004101757347368612,0.0371049700794163,-0.009029867478311073,-0.0023362749627045217,-0.03704616431083782,0.03704616431083782],[-0.04183585029588718,-0.049603542481867505,0.010937833680194362,0.02840257585908463,0.005425436121298494,-0.02373563590541513,-0.09891920653489127,-0.012511067928063132,-0.3383607433037996,1.0,0.03992007088824385,-0.018904133039663,-0.032586691448894076,0.009661840953234682,0.008243589816156612,-0.027261478513297053,-0.07047409192208862,-0.005945181108528475,0.019765233716160565,0.0395699187009174,0.029824166056344335,0.05238480341406968,0.0026925477099126087,-0.029987196940189847,0.02573495132620221,-0.02573495132620221],[-0.0036868742964581832,-0.07073849702511134,-0.04444221129795731,0.048636081417162254,-0.00859715035324379,-0.03248760581617698,-0.05951513449510791,-0.11256888979615756,-0.04314945815823628,0.03992007088824385,1.0,-0.027197510194175534,-0.10449475018500758,0.03236106567244016,-0.05016083930044793,0.04889257552536019,-0.03105689572386334,-0.02993974624853764,0.019968567796537044,0.021708246093151588,0.014759376048521582,0.017546193997510763,-0.04414122979869569,0.011822088276767463,-0.0015888631669786731,0.0015888631669786731],[-0.040440431265988036,0.030582308619973454,0.06155556299309695,-0.009517419532675007,0.0036348208916068096,0.000202402792653759,-0.06452550992688358,-0.009054995879139955,0.03245566731637632,-0.018904133039663,-0.027197510194175534,1.0,-0.014868774769783053,-0.005466655143101827,-0.014360821569059674,0.008890742667289299,-0.037639716437747224,0.005900220133746535,-0.014828654468394644,0.022438135444482168,0.008984338051570227,-0.008293898879276519,-0.004698095777879265,0.038803664832091515,0.000381293166175888,-0.000381293166175888],[-0.07495361066292783,0.14480637435207766,0.09120215577409595,0.048969218764807074,0.022296348130501163,0.03113842400908697,0.20250149391855748,0.07500349053752337,0.061773938654147126,-0.032586691448894076,-0.10449475018500758,-0.014868774769783053,1.0,-0.05348292492096793,0.04975109649292532,-0.008206159796063916,0.06937066461296942,-0.04854105437722107,-0.0007542751140240415,-0.03001864408387114,-0.025748590449628964,0.01858632432159593,-0.02479064945412689,0.04431430315892413,-0.12617081451339396,0.12617081451339396],[-0.038577852804635736,0.01684099666278838,0.011818059957618336,-0.032203772467352454,-0.06355699269026892,0.04620540281312813,-0.03901431895409728,-0.04412933730872779,-0.05794964913961891,0.009661840953234682,0.03236106567244016,-0.005466655143101827,-0.05348292492096793,1.0,-0.08256023499950925,-0.09992674723486711,-0.12479931246750554,-0.09992674723486711,-0.06189844605901729,-0.08637519911770214,-0.10528865650811575,-0.09437921317039913,-0.10985197806642237,-0.10660381939696217,0.0039763455425860465,-0.0039763455425860465],[0.01656252419593727,-0.050164107484684604,0.001558700338669749,-0.013102873607375217,0.0005747588642870955,-0.03079336134739244,0.029830529124782085,0.012995201441327557,-0.028738148368425174,0.008243589816156612,-0.05016083930044793,-0.014360821569059674,0.04975109649292532,-0.08256023499950925,1.0,-0.08612974666762865,-0.10756812829958598,-0.08612974666762865,-0.05335205663857339,-0.07444927633727516,-0.09075133097952723,-0.08134816699227275,-0.09468458949795057,-0.0918849078203381,-0.04289096255621009,0.04289096255621009],[-0.010333300378979145,0.0833463319226375,0.050508345490653514,0.0014346700644145708,0.01793184134824635,-0.008696190766634417,0.05082824516701101,0.029383415721021055,0.06004210292110726,-0.027261478513297053,0.04889257552536019,0.008890742667289299,-0.008206159796063916,-0.09992674723486711,-0.08612974666762865,1.0,-0.13019504083514755,-0.10424710424710423,-0.06457464030007577,-0.09010965167938159,-0.10984083696070979,-0.09845972120967095,-0.11460145482695269,-0.11121286123418335,-0.07892242903255771,0.07892242903255771],[0.02452962026871911,0.04893517331713559,-0.02530470796816619,0.001924646216112573,-0.028418855579048892,-0.006549920138883928,0.032783245133553664,-0.0187451669003241,0.04741291778497146,-0.07047409192208862,-0.03105689572386334,-0.037639716437747224,0.06937066461296942,-0.12479931246750554,-0.10756812829958598,-0.13019504083514755,1.0,-0.13019504083514752,-0.0806477838545512,-0.11253866344554975,-0.1371810982832517,-0.12296713195145113,-0.14312667194663953,-0.13889463035305658,0.04438659667253664,-0.04438659667253664],[0.017307784191177306,-0.025048517527499304,-0.03630990503716271,-0.015257164338870336,-0.0032591155180432783,0.013620061337696826,-0.00031211491022334955,-0.020794519001487672,-0.020086981416836083,-0.005945181108528475,-0.02993974624853764,0.005900220133746535,-0.04854105437722107,-0.09992674723486711,-0.08612974666762865,-0.10424710424710423,-0.13019504083514752,1.0,-0.06457464030007577,-0.09010965167938159,-0.10984083696070979,-0.09845972120967095,-0.11460145482695269,-0.11121286123418335,0.16964817693641449,-0.16964817693641449],[0.013798062962313607,0.014883851120395874,-0.029239983681918737,0.01884542140698842,0.0270603542705206,0.010827172073055433,-0.021900058997202338,-0.03279300843189278,-0.019096969467799846,0.019765233716160565,0.019968567796537044,-0.014828654468394644,-0.0007542751140240415,-0.06189844605901729,-0.05335205663857339,-0.06457464030007577,-0.0806477838545512,-0.06457464030007577,1.0,-0.055817361899746176,-0.06803961211415739,-0.06098971407483344,-0.07098852075328911,-0.0688894963827172,-0.07643132847900673,0.07643132847900673],[0.015305779128854271,-0.039109647172900774,-0.03086519598586524,0.031670630984132635,-0.0014009926391388085,-0.0019282087050096302,-0.03886106577174941,-0.09794074159669257,-0.024975367244622893,0.0395699187009174,0.021708246093151588,0.022438135444482168,-0.03001864408387114,-0.08637519911770214,-0.07444927633727516,-0.09010965167938159,-0.11253866344554975,-0.09010965167938159,-0.055817361899746176,1.0,-0.09494479132235692,-0.08510712356692553,-0.0990597988403495,-0.09613074876713452,-0.1568689993475372,0.1568689993475372],[-0.015536349211463001,-0.03111417823433376,0.021692830021163345,-0.006845795111176153,-0.023375598848904958,-0.023970413365891008,-0.009552185832623261,0.01630140928815238,-0.004101757347368612,0.029824166056344335,0.014759376048521582,0.008984338051570227,-0.025748590449628964,-0.10528865650811575,-0.09075133097952723,-0.10984083696070979,-0.1371810982832517,-0.10984083696070979,-0.06803961211415739,-0.09494479132235692,1.0,-0.10374291221512581,-0.12075078541529005,-0.11718036531549317,-0.04053425755938,0.04053425755938],[0.0024846917611502555,0.005442762201683109,0.013064049289903385,-0.0333087191229115,0.04170304697531359,0.018691718115153313,0.00343795642221859,0.0927477462789638,0.0371049700794163,0.05238480341406968,0.017546193997510763,-0.008293898879276519,0.01858632432159593,-0.09437921317039913,-0.08134816699227275,-0.09845972120967095,-0.12296713195145113,-0.09845972120967095,-0.06098971407483344,-0.08510712356692553,-0.10374291221512581,1.0,-0.10823923958346206,-0.10503876717852985,-0.08750887619984771,0.08750887619984771],[-0.017978431419524495,-0.0030211507486387506,0.026687540140826284,0.029570492602414997,0.04309967177935379,-0.010319088166294869,0.0018109393482512147,0.02533514189453272,-0.009029867478311073,0.0026925477099126087,-0.04414122979869569,-0.004698095777879265,-0.02479064945412689,-0.10985197806642237,-0.09468458949795057,-0.11460145482695269,-0.14312667194663953,-0.11460145482695269,-0.07098852075328911,-0.0990597988403495,-0.12075078541529005,-0.10823923958346206,1.0,-0.12225908609120388,0.09559550316623501,-0.09559550316623501],[-0.002426532571145368,-0.03279330745223943,-0.01350401787507892,0.019380648607544904,0.0014264158103744588,-0.0025514929182629794,-0.022392468459347004,0.019645741859116814,-0.0023362749627045217,-0.029987196940189847,0.011822088276767463,0.038803664832091515,0.04431430315892413,-0.10660381939696217,-0.0918849078203381,-0.11121286123418335,-0.13889463035305658,-0.11121286123418335,-0.0688894963827172,-0.09613074876713452,-0.11718036531549317,-0.10503876717852985,-0.12225908609120388,1.0,0.09610008765136743,-0.09610008765136743],[0.04318281056152205,-0.08480404436567004,-0.07944875931829654,0.04933963015095119,-0.004811304684913764,0.014272874263220837,-0.11860108474596659,-0.054659682002156415,-0.03704616431083782,0.02573495132620221,-0.0015888631669786731,0.000381293166175888,-0.12617081451339396,0.0039763455425860465,-0.04289096255621009,-0.07892242903255771,0.04438659667253664,0.16964817693641449,-0.07643132847900673,-0.1568689993475372,-0.04053425755938,-0.08750887619984771,0.09559550316623501,0.09610008765136743,1.0,-0.9999999999999999],[-0.04318281056152205,0.08480404436567004,0.07944875931829654,-0.04933963015095119,0.004811304684913764,-0.014272874263220837,0.11860108474596659,0.054659682002156415,0.03704616431083782,-0.02573495132620221,0.0015888631669786731,-0.000381293166175888,0.12617081451339396,-0.0039763455425860465,0.04289096255621009,0.07892242903255771,-0.04438659667253664,-0.16964817693641449,0.07643132847900673,0.1568689993475372,0.04053425755938,0.08750887619984771,-0.09559550316623501,-0.09610008765136743,-0.9999999999999999,1.0]],\"type\":\"heatmap\",\"xaxis\":\"x\",\"yaxis\":\"y\",\"hovertemplate\":\"x: %{x}\\u003cbr\\u003ey: %{y}\\u003cbr\\u003ecolor: %{z}\\u003cextra\\u003e\\u003c\\u002fextra\\u003e\"}],                        {\"template\":{\"data\":{\"histogram2dcontour\":[{\"type\":\"histogram2dcontour\",\"colorbar\":{\"outlinewidth\":0,\"ticks\":\"\"},\"colorscale\":[[0.0,\"#0d0887\"],[0.1111111111111111,\"#46039f\"],[0.2222222222222222,\"#7201a8\"],[0.3333333333333333,\"#9c179e\"],[0.4444444444444444,\"#bd3786\"],[0.5555555555555556,\"#d8576b\"],[0.6666666666666666,\"#ed7953\"],[0.7777777777777778,\"#fb9f3a\"],[0.8888888888888888,\"#fdca26\"],[1.0,\"#f0f921\"]]}],\"choropleth\":[{\"type\":\"choropleth\",\"colorbar\":{\"outlinewidth\":0,\"ticks\":\"\"}}],\"histogram2d\":[{\"type\":\"histogram2d\",\"colorbar\":{\"outlinewidth\":0,\"ticks\":\"\"},\"colorscale\":[[0.0,\"#0d0887\"],[0.1111111111111111,\"#46039f\"],[0.2222222222222222,\"#7201a8\"],[0.3333333333333333,\"#9c179e\"],[0.4444444444444444,\"#bd3786\"],[0.5555555555555556,\"#d8576b\"],[0.6666666666666666,\"#ed7953\"],[0.7777777777777778,\"#fb9f3a\"],[0.8888888888888888,\"#fdca26\"],[1.0,\"#f0f921\"]]}],\"heatmap\":[{\"type\":\"heatmap\",\"colorbar\":{\"outlinewidth\":0,\"ticks\":\"\"},\"colorscale\":[[0.0,\"#0d0887\"],[0.1111111111111111,\"#46039f\"],[0.2222222222222222,\"#7201a8\"],[0.3333333333333333,\"#9c179e\"],[0.4444444444444444,\"#bd3786\"],[0.5555555555555556,\"#d8576b\"],[0.6666666666666666,\"#ed7953\"],[0.7777777777777778,\"#fb9f3a\"],[0.8888888888888888,\"#fdca26\"],[1.0,\"#f0f921\"]]}],\"heatmapgl\":[{\"type\":\"heatmapgl\",\"colorbar\":{\"outlinewidth\":0,\"ticks\":\"\"},\"colorscale\":[[0.0,\"#0d0887\"],[0.1111111111111111,\"#46039f\"],[0.2222222222222222,\"#7201a8\"],[0.3333333333333333,\"#9c179e\"],[0.4444444444444444,\"#bd3786\"],[0.5555555555555556,\"#d8576b\"],[0.6666666666666666,\"#ed7953\"],[0.7777777777777778,\"#fb9f3a\"],[0.8888888888888888,\"#fdca26\"],[1.0,\"#f0f921\"]]}],\"contourcarpet\":[{\"type\":\"contourcarpet\",\"colorbar\":{\"outlinewidth\":0,\"ticks\":\"\"}}],\"contour\":[{\"type\":\"contour\",\"colorbar\":{\"outlinewidth\":0,\"ticks\":\"\"},\"colorscale\":[[0.0,\"#0d0887\"],[0.1111111111111111,\"#46039f\"],[0.2222222222222222,\"#7201a8\"],[0.3333333333333333,\"#9c179e\"],[0.4444444444444444,\"#bd3786\"],[0.5555555555555556,\"#d8576b\"],[0.6666666666666666,\"#ed7953\"],[0.7777777777777778,\"#fb9f3a\"],[0.8888888888888888,\"#fdca26\"],[1.0,\"#f0f921\"]]}],\"surface\":[{\"type\":\"surface\",\"colorbar\":{\"outlinewidth\":0,\"ticks\":\"\"},\"colorscale\":[[0.0,\"#0d0887\"],[0.1111111111111111,\"#46039f\"],[0.2222222222222222,\"#7201a8\"],[0.3333333333333333,\"#9c179e\"],[0.4444444444444444,\"#bd3786\"],[0.5555555555555556,\"#d8576b\"],[0.6666666666666666,\"#ed7953\"],[0.7777777777777778,\"#fb9f3a\"],[0.8888888888888888,\"#fdca26\"],[1.0,\"#f0f921\"]]}],\"mesh3d\":[{\"type\":\"mesh3d\",\"colorbar\":{\"outlinewidth\":0,\"ticks\":\"\"}}],\"scatter\":[{\"fillpattern\":{\"fillmode\":\"overlay\",\"size\":10,\"solidity\":0.2},\"type\":\"scatter\"}],\"parcoords\":[{\"type\":\"parcoords\",\"line\":{\"colorbar\":{\"outlinewidth\":0,\"ticks\":\"\"}}}],\"scatterpolargl\":[{\"type\":\"scatterpolargl\",\"marker\":{\"colorbar\":{\"outlinewidth\":0,\"ticks\":\"\"}}}],\"bar\":[{\"error_x\":{\"color\":\"#2a3f5f\"},\"error_y\":{\"color\":\"#2a3f5f\"},\"marker\":{\"line\":{\"color\":\"#E5ECF6\",\"width\":0.5},\"pattern\":{\"fillmode\":\"overlay\",\"size\":10,\"solidity\":0.2}},\"type\":\"bar\"}],\"scattergeo\":[{\"type\":\"scattergeo\",\"marker\":{\"colorbar\":{\"outlinewidth\":0,\"ticks\":\"\"}}}],\"scatterpolar\":[{\"type\":\"scatterpolar\",\"marker\":{\"colorbar\":{\"outlinewidth\":0,\"ticks\":\"\"}}}],\"histogram\":[{\"marker\":{\"pattern\":{\"fillmode\":\"overlay\",\"size\":10,\"solidity\":0.2}},\"type\":\"histogram\"}],\"scattergl\":[{\"type\":\"scattergl\",\"marker\":{\"colorbar\":{\"outlinewidth\":0,\"ticks\":\"\"}}}],\"scatter3d\":[{\"type\":\"scatter3d\",\"line\":{\"colorbar\":{\"outlinewidth\":0,\"ticks\":\"\"}},\"marker\":{\"colorbar\":{\"outlinewidth\":0,\"ticks\":\"\"}}}],\"scattermapbox\":[{\"type\":\"scattermapbox\",\"marker\":{\"colorbar\":{\"outlinewidth\":0,\"ticks\":\"\"}}}],\"scatterternary\":[{\"type\":\"scatterternary\",\"marker\":{\"colorbar\":{\"outlinewidth\":0,\"ticks\":\"\"}}}],\"scattercarpet\":[{\"type\":\"scattercarpet\",\"marker\":{\"colorbar\":{\"outlinewidth\":0,\"ticks\":\"\"}}}],\"carpet\":[{\"aaxis\":{\"endlinecolor\":\"#2a3f5f\",\"gridcolor\":\"white\",\"linecolor\":\"white\",\"minorgridcolor\":\"white\",\"startlinecolor\":\"#2a3f5f\"},\"baxis\":{\"endlinecolor\":\"#2a3f5f\",\"gridcolor\":\"white\",\"linecolor\":\"white\",\"minorgridcolor\":\"white\",\"startlinecolor\":\"#2a3f5f\"},\"type\":\"carpet\"}],\"table\":[{\"cells\":{\"fill\":{\"color\":\"#EBF0F8\"},\"line\":{\"color\":\"white\"}},\"header\":{\"fill\":{\"color\":\"#C8D4E3\"},\"line\":{\"color\":\"white\"}},\"type\":\"table\"}],\"barpolar\":[{\"marker\":{\"line\":{\"color\":\"#E5ECF6\",\"width\":0.5},\"pattern\":{\"fillmode\":\"overlay\",\"size\":10,\"solidity\":0.2}},\"type\":\"barpolar\"}],\"pie\":[{\"automargin\":true,\"type\":\"pie\"}]},\"layout\":{\"autotypenumbers\":\"strict\",\"colorway\":[\"#636efa\",\"#EF553B\",\"#00cc96\",\"#ab63fa\",\"#FFA15A\",\"#19d3f3\",\"#FF6692\",\"#B6E880\",\"#FF97FF\",\"#FECB52\"],\"font\":{\"color\":\"#2a3f5f\"},\"hovermode\":\"closest\",\"hoverlabel\":{\"align\":\"left\"},\"paper_bgcolor\":\"white\",\"plot_bgcolor\":\"#E5ECF6\",\"polar\":{\"bgcolor\":\"#E5ECF6\",\"angularaxis\":{\"gridcolor\":\"white\",\"linecolor\":\"white\",\"ticks\":\"\"},\"radialaxis\":{\"gridcolor\":\"white\",\"linecolor\":\"white\",\"ticks\":\"\"}},\"ternary\":{\"bgcolor\":\"#E5ECF6\",\"aaxis\":{\"gridcolor\":\"white\",\"linecolor\":\"white\",\"ticks\":\"\"},\"baxis\":{\"gridcolor\":\"white\",\"linecolor\":\"white\",\"ticks\":\"\"},\"caxis\":{\"gridcolor\":\"white\",\"linecolor\":\"white\",\"ticks\":\"\"}},\"coloraxis\":{\"colorbar\":{\"outlinewidth\":0,\"ticks\":\"\"}},\"colorscale\":{\"sequential\":[[0.0,\"#0d0887\"],[0.1111111111111111,\"#46039f\"],[0.2222222222222222,\"#7201a8\"],[0.3333333333333333,\"#9c179e\"],[0.4444444444444444,\"#bd3786\"],[0.5555555555555556,\"#d8576b\"],[0.6666666666666666,\"#ed7953\"],[0.7777777777777778,\"#fb9f3a\"],[0.8888888888888888,\"#fdca26\"],[1.0,\"#f0f921\"]],\"sequentialminus\":[[0.0,\"#0d0887\"],[0.1111111111111111,\"#46039f\"],[0.2222222222222222,\"#7201a8\"],[0.3333333333333333,\"#9c179e\"],[0.4444444444444444,\"#bd3786\"],[0.5555555555555556,\"#d8576b\"],[0.6666666666666666,\"#ed7953\"],[0.7777777777777778,\"#fb9f3a\"],[0.8888888888888888,\"#fdca26\"],[1.0,\"#f0f921\"]],\"diverging\":[[0,\"#8e0152\"],[0.1,\"#c51b7d\"],[0.2,\"#de77ae\"],[0.3,\"#f1b6da\"],[0.4,\"#fde0ef\"],[0.5,\"#f7f7f7\"],[0.6,\"#e6f5d0\"],[0.7,\"#b8e186\"],[0.8,\"#7fbc41\"],[0.9,\"#4d9221\"],[1,\"#276419\"]]},\"xaxis\":{\"gridcolor\":\"white\",\"linecolor\":\"white\",\"ticks\":\"\",\"title\":{\"standoff\":15},\"zerolinecolor\":\"white\",\"automargin\":true,\"zerolinewidth\":2},\"yaxis\":{\"gridcolor\":\"white\",\"linecolor\":\"white\",\"ticks\":\"\",\"title\":{\"standoff\":15},\"zerolinecolor\":\"white\",\"automargin\":true,\"zerolinewidth\":2},\"scene\":{\"xaxis\":{\"backgroundcolor\":\"#E5ECF6\",\"gridcolor\":\"white\",\"linecolor\":\"white\",\"showbackground\":true,\"ticks\":\"\",\"zerolinecolor\":\"white\",\"gridwidth\":2},\"yaxis\":{\"backgroundcolor\":\"#E5ECF6\",\"gridcolor\":\"white\",\"linecolor\":\"white\",\"showbackground\":true,\"ticks\":\"\",\"zerolinecolor\":\"white\",\"gridwidth\":2},\"zaxis\":{\"backgroundcolor\":\"#E5ECF6\",\"gridcolor\":\"white\",\"linecolor\":\"white\",\"showbackground\":true,\"ticks\":\"\",\"zerolinecolor\":\"white\",\"gridwidth\":2}},\"shapedefaults\":{\"line\":{\"color\":\"#2a3f5f\"}},\"annotationdefaults\":{\"arrowcolor\":\"#2a3f5f\",\"arrowhead\":0,\"arrowwidth\":1},\"geo\":{\"bgcolor\":\"white\",\"landcolor\":\"#E5ECF6\",\"subunitcolor\":\"white\",\"showland\":true,\"showlakes\":true,\"lakecolor\":\"white\"},\"title\":{\"x\":0.05},\"mapbox\":{\"style\":\"light\"}}},\"xaxis\":{\"anchor\":\"y\",\"domain\":[0.0,1.0],\"scaleanchor\":\"y\",\"constrain\":\"domain\"},\"yaxis\":{\"anchor\":\"x\",\"domain\":[0.0,1.0],\"autorange\":\"reversed\",\"constrain\":\"domain\"},\"coloraxis\":{\"colorscale\":[[0.0,\"#0d0887\"],[0.1111111111111111,\"#46039f\"],[0.2222222222222222,\"#7201a8\"],[0.3333333333333333,\"#9c179e\"],[0.4444444444444444,\"#bd3786\"],[0.5555555555555556,\"#d8576b\"],[0.6666666666666666,\"#ed7953\"],[0.7777777777777778,\"#fb9f3a\"],[0.8888888888888888,\"#fdca26\"],[1.0,\"#f0f921\"]]},\"margin\":{\"t\":60},\"title\":{\"font\":{\"size\":24},\"text\":\"Kendall Correlation of 2023 Features: Track Properties\"}},                        {\"responsive\": true}                    ).then(function(){\n",
       "                            \n",
       "var gd = document.getElementById('5ce15f2d-13b7-42cf-adfa-24440c62404e');\n",
       "var x = new MutationObserver(function (mutations, observer) {{\n",
       "        var display = window.getComputedStyle(gd).display;\n",
       "        if (!display || display === 'none') {{\n",
       "            console.log([gd, 'removed!']);\n",
       "            Plotly.purge(gd);\n",
       "            observer.disconnect();\n",
       "        }}\n",
       "}});\n",
       "\n",
       "// Listen for the removal of the full notebook cells\n",
       "var notebookContainer = gd.closest('#notebook-container');\n",
       "if (notebookContainer) {{\n",
       "    x.observe(notebookContainer, {childList: true});\n",
       "}}\n",
       "\n",
       "// Listen for the clearing of the current output cell\n",
       "var outputEl = gd.closest('.output');\n",
       "if (outputEl) {{\n",
       "    x.observe(outputEl, {childList: true});\n",
       "}}\n",
       "\n",
       "                        })                };                });            </script>        </div>"
      ]
     },
     "metadata": {},
     "output_type": "display_data"
    }
   ],
   "source": [
    "cols: list[str] = [\n",
    "    \"streams\", \"artist_count\", \"released_year\", \"released_month\", \"released_day\",\n",
    "    \"bpm\", \"danceability_%\", \"valence_%\", \"energy_%\",\n",
    "    \"acousticness_%\", \"instrumentalness_%\", \"liveness_%\", \"speechiness_%\",\n",
    "    *df.loc[:, df.columns.str.startswith(\"key_\")].columns, *df.loc[:, df.columns.str.startswith(\"mode_\")].columns,\n",
    "]\n",
    "corr_mat = df.loc[:, cols].corr(method=\"kendall\")\n",
    "fig = px.imshow(corr_mat, text_auto=True)\n",
    "fig.update_layout(dict(\n",
    "    title=dict(\n",
    "        text=\"Kendall Correlation of 2023 Features: Track Properties\",\n",
    "        font=dict(\n",
    "            size=24\n",
    "        ),\n",
    "    ),\n",
    "))\n",
    "fig.show()\n",
    "# Save images\n",
    "fig.write_image(f\"./../../images/2023/Correlation-Properties.png\", width=WIDTH, height=HEIGHT, scale=1.0)"
   ]
  }
 ],
 "metadata": {
  "kernelspec": {
   "display_name": "py310",
   "language": "python",
   "name": "python3"
  },
  "language_info": {
   "codemirror_mode": {
    "name": "ipython",
    "version": 3
   },
   "file_extension": ".py",
   "mimetype": "text/x-python",
   "name": "python",
   "nbconvert_exporter": "python",
   "pygments_lexer": "ipython3",
   "version": "3.10.14"
  }
 },
 "nbformat": 4,
 "nbformat_minor": 2
}
