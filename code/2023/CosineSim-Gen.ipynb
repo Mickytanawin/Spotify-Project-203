{
 "cells": [
  {
   "cell_type": "code",
   "execution_count": 1,
   "metadata": {},
   "outputs": [],
   "source": [
    "import numpy as np\n",
    "import pandas as pd\n",
    "import scipy.spatial as spatial"
   ]
  },
  {
   "cell_type": "code",
   "execution_count": 2,
   "metadata": {},
   "outputs": [],
   "source": [
    "RND_SEED: int = 12345\n",
    "np.random.seed(RND_SEED)\n",
    "pd.core.common.random_state(RND_SEED)\n",
    "\n",
    "# Resolution for graph images\n",
    "WIDTH: int = 1366\n",
    "HEIGHT: int = 768"
   ]
  },
  {
   "cell_type": "code",
   "execution_count": 3,
   "metadata": {},
   "outputs": [],
   "source": [
    "df = pd.read_csv(\"./../../data/Combined-2023.csv\", encoding=\"utf-8\", index_col=[0])\n",
    "df[\"streams\"] = df[\"streams\"].astype(str).apply(lambda x: float(x) / 1e6 if x.isdigit() else np.nan)\n",
    "df[\"in_spotify_playlists\"] = df[\"in_spotify_playlists\"].apply(lambda x: x / 1000)\n",
    "df[\"in_deezer_playlists\"] = df[\"in_deezer_playlists\"].astype(str).apply(lambda x: float(x.replace(\",\", \"\")) / 1000)\n",
    "df[\"in_shazam_charts\"] = df[\"in_shazam_charts\"].astype(str).apply(\n",
    "    lambda x: int(float(x.replace(\",\", \"\"))) if x.isdigit() else pd.NA\n",
    ").astype(\"Int64\")\n",
    "df[\"key\"] = df[\"key\"].astype(\"category\")\n",
    "df[\"mode\"] = df[\"mode\"].astype(\"category\")\n",
    "emb_df = pd.read_csv(\"./../../data/WordEmb-Name-2023.csv\", encoding=\"utf-8\")\n",
    "word_df = pd.read_csv(\"./../../data/WordList.csv\", encoding=\"utf-8\")"
   ]
  },
  {
   "cell_type": "code",
   "execution_count": 4,
   "metadata": {},
   "outputs": [],
   "source": [
    "dct: dict[str, np.ndarray] = {}\n",
    "for i in range(0, word_df.shape[0]):\n",
    "    col_name: str = word_df.loc[i, \"Unnamed: 0\"]\n",
    "    tr_vec = word_df.loc[i, \"0\":].to_numpy(dtype=np.float32)\n",
    "    arr_list: list = []\n",
    "    for j in range(0, emb_df.shape[0]):\n",
    "        arr_list.append(spatial.distance.cosine(tr_vec, emb_df.loc[j, \"0\":].to_numpy(dtype=np.float32)))\n",
    "    del j\n",
    "    arr_list = np.array(arr_list)\n",
    "    dct[col_name] = arr_list\n",
    "    del arr_list, col_name, tr_vec\n",
    "del i\n",
    "df = pd.concat([df, pd.DataFrame(dct)], axis=1)"
   ]
  },
  {
   "cell_type": "code",
   "execution_count": 5,
   "metadata": {},
   "outputs": [],
   "source": [
    "df.to_csv(\"./../../data/Meaning-2023.csv\", encoding=\"utf-8\")"
   ]
  }
 ],
 "metadata": {
  "kernelspec": {
   "display_name": "py310",
   "language": "python",
   "name": "python3"
  },
  "language_info": {
   "codemirror_mode": {
    "name": "ipython",
    "version": 3
   },
   "file_extension": ".py",
   "mimetype": "text/x-python",
   "name": "python",
   "nbconvert_exporter": "python",
   "pygments_lexer": "ipython3",
   "version": "3.10.14"
  }
 },
 "nbformat": 4,
 "nbformat_minor": 2
}
