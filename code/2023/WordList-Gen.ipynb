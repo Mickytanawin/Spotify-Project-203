{
 "cells": [
  {
   "cell_type": "code",
   "execution_count": 1,
   "metadata": {},
   "outputs": [
    {
     "name": "stderr",
     "output_type": "stream",
     "text": [
      "/home/micky2404/anaconda3/envs/py310/lib/python3.10/site-packages/tqdm/auto.py:21: TqdmWarning: IProgress not found. Please update jupyter and ipywidgets. See https://ipywidgets.readthedocs.io/en/stable/user_install.html\n",
      "  from .autonotebook import tqdm as notebook_tqdm\n"
     ]
    }
   ],
   "source": [
    "import numpy as np\n",
    "import pandas as pd\n",
    "import torch\n",
    "from transformers import AutoTokenizer"
   ]
  },
  {
   "cell_type": "code",
   "execution_count": 2,
   "metadata": {},
   "outputs": [],
   "source": [
    "# Set random seed for everything (except sklearn)\n",
    "RND_SEED: int = 12345\n",
    "np.random.seed(RND_SEED) # for numpy, scipy\n",
    "pd.core.common.random_state(RND_SEED) # for pandas\n",
    "torch.set_default_device(\"cuda\")\n",
    "torch.manual_seed(RND_SEED)\n",
    "\n",
    "# Resolution for graph images\n",
    "WIDTH: int = 1366\n",
    "HEIGHT: int = 768"
   ]
  },
  {
   "cell_type": "code",
   "execution_count": 3,
   "metadata": {},
   "outputs": [],
   "source": [
    "df = pd.read_csv(\"./../../data/Combined-2024.csv\", encoding=\"utf-8\", index_col=[0])\n",
    "df[\"Album Name\"] = df[\"Album Name\"].astype(\"string\")\n",
    "df = df[\"Album Name\"]\n",
    "# df[\"streams\"] = df[\"streams\"].astype(str).apply(lambda x: float(x) / 1e6 if x.isdigit() else np.nan)\n",
    "# df[\"in_deezer_playlists\"] = df[\"in_deezer_playlists\"].astype(str).apply(lambda x: float(x.replace(\",\", \"\")) / 1000)\n",
    "# df[\"in_shazam_charts\"] = df[\"in_shazam_charts\"].astype(str).apply(\n",
    "#     lambda x: int(float(x.replace(\",\", \"\"))) if x.isdigit() else pd.NA\n",
    "# ).astype(\"Int64\")\n",
    "# df[\"key\"] = df[\"key\"].astype(\"category\")\n",
    "# df[\"mode\"] = df[\"mode\"].astype(\"category\")"
   ]
  },
  {
   "cell_type": "code",
   "execution_count": 4,
   "metadata": {},
   "outputs": [],
   "source": [
    "tokenizer = AutoTokenizer.from_pretrained(\"/home/micky2404/.llama/checkpoints/Llama3.2-3B-Instruct\", \\\n",
    "    legacy=False, device=\"cuda\")"
   ]
  },
  {
   "cell_type": "code",
   "execution_count": 5,
   "metadata": {},
   "outputs": [
    {
     "name": "stdout",
     "output_type": "stream",
     "text": [
      "ĠÃ\n",
      "·\n",
      "ĠâĪ\n",
      "ŀ\n",
      "Ġåĭ\n",
      "ĩ\n",
      "Ġà¦\n",
      "¬\n",
      "à¦\n",
      "²\n",
      "à§\n",
      "ĭ\n",
      "Ĺ\n",
      "Ĩ\n",
      "ķ\n",
      "¦\n",
      "à¦¿à¦\n",
      "¨\n",
      "Ġæī\n",
      "¿\n",
      "Ġå¤\n",
      "ľ\n",
      "Ì\n",
      "ĠæĢ\n",
      "ª\n",
      "ĠæĻ\n",
      "©\n",
      "ĠâĻ\n",
      "¡\n",
      "±\n",
      "Ġæ®\n",
      "Ġå¹\n",
      "¾\n",
      "Ġç¥\n",
      "Ŀ\n",
      "Ġâľ\n",
      "»\n",
      "âľ\n",
      "Ġçµ\n"
     ]
    }
   ],
   "source": [
    "names: str = \" \" + \" \".join(map(lambda x: x.lower(), df.to_numpy()))\n",
    "word_list: list[str] = tokenizer.tokenize(names)\n",
    "\n",
    "def token_to_word(tok: str) -> str:\n",
    "    res = tokenizer.convert_tokens_to_string([tok])\n",
    "    if \"�\" in res:\n",
    "        print(tok)\n",
    "    return res\n",
    "\n",
    "word_list = map(token_to_word, pd.unique(np.array(word_list, dtype=str)))\n",
    "word_list = list(map(lambda x: x.replace(\" \", \"�\"), filter(lambda x: \"�\" not in x and x != \" \", word_list)))\n",
    "word_df = pd.DataFrame(dict(\n",
    "    word=word_list,\n",
    "))\n",
    "word_df = word_df.sort_values(by=\"word\").reset_index(drop=True)\n",
    "word_df.to_csv(\"./../../data/WordList-Album-2024.csv\", encoding=\"utf-8\")"
   ]
  }
 ],
 "metadata": {
  "kernelspec": {
   "display_name": "py310",
   "language": "python",
   "name": "python3"
  },
  "language_info": {
   "codemirror_mode": {
    "name": "ipython",
    "version": 3
   },
   "file_extension": ".py",
   "mimetype": "text/x-python",
   "name": "python",
   "nbconvert_exporter": "python",
   "pygments_lexer": "ipython3",
   "version": "3.10.14"
  }
 },
 "nbformat": 4,
 "nbformat_minor": 2
}
