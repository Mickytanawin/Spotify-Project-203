{
 "cells": [
  {
   "cell_type": "code",
   "execution_count": 6,
   "metadata": {},
   "outputs": [],
   "source": [
    "import fasttext\n",
    "import numpy as np\n",
    "import pandas as pd\n",
    "import torch\n",
    "from transformers import AutoTokenizer"
   ]
  },
  {
   "cell_type": "code",
   "execution_count": 7,
   "metadata": {},
   "outputs": [],
   "source": [
    "# Set random seed for everything (except sklearn)\n",
    "RND_SEED: int = 12345\n",
    "np.random.seed(RND_SEED) # for numpy, scipy\n",
    "pd.core.common.random_state(RND_SEED) # for pandas\n",
    "torch.set_default_device(\"cuda\")\n",
    "torch.manual_seed(RND_SEED)\n",
    "\n",
    "# Resolution for graph images\n",
    "WIDTH: int = 1366\n",
    "HEIGHT: int = 768"
   ]
  },
  {
   "cell_type": "code",
   "execution_count": 8,
   "metadata": {},
   "outputs": [],
   "source": [
    "df = pd.read_csv(\"./../../data/Combined-2023.csv\", encoding=\"utf-8\", index_col=[0])\n",
    "df[\"track_name\"] = df[\"track_name\"].astype(\"string\")\n",
    "df = df[\"track_name\"]\n",
    "# df[\"streams\"] = df[\"streams\"].astype(str).apply(lambda x: float(x) / 1e6 if x.isdigit() else np.nan)\n",
    "# df[\"in_deezer_playlists\"] = df[\"in_deezer_playlists\"].astype(str).apply(lambda x: float(x.replace(\",\", \"\")) / 1000)\n",
    "# df[\"in_shazam_charts\"] = df[\"in_shazam_charts\"].astype(str).apply(\n",
    "#     lambda x: int(float(x.replace(\",\", \"\"))) if x.isdigit() else pd.NA\n",
    "# ).astype(\"Int64\")\n",
    "# df[\"key\"] = df[\"key\"].astype(\"category\")\n",
    "# df[\"mode\"] = df[\"mode\"].astype(\"category\")"
   ]
  },
  {
   "cell_type": "code",
   "execution_count": 9,
   "metadata": {},
   "outputs": [],
   "source": [
    "tokenizer = AutoTokenizer.from_pretrained(\"/home/micky2404/.llama/checkpoints/Llama3.2-3B-Instruct\", \\\n",
    "    legacy=False, device=\"cuda\")"
   ]
  },
  {
   "cell_type": "code",
   "execution_count": 10,
   "metadata": {},
   "outputs": [
    {
     "name": "stdout",
     "output_type": "stream",
     "text": [
      "ĠÃ\n",
      "±\n"
     ]
    }
   ],
   "source": [
    "names: str = \" \" + \" \".join(map(lambda x: x.lower(), df.to_numpy()))\n",
    "word_list: list[str] = tokenizer.tokenize(names)\n",
    "\n",
    "def token_to_word(tok: str) -> str:\n",
    "    res = tokenizer.convert_tokens_to_string([tok])\n",
    "    if \"�\" in res:\n",
    "        print(tok)\n",
    "    return res\n",
    "\n",
    "word_list = map(token_to_word, pd.unique(np.array(word_list, dtype=str)))\n",
    "word_list = list(filter(lambda x: \"�\" not in x and x != \" \", word_list))\n",
    "word_df = pd.DataFrame(dict(\n",
    "    word=word_list,\n",
    "))\n",
    "word_df = word_df.sort_values(by=\"word\").reset_index(drop=True)\n",
    "word_df.to_csv(\"./../../data/WordList-All-2023.csv\", encoding=\"utf-8\")"
   ]
  }
 ],
 "metadata": {
  "kernelspec": {
   "display_name": "py310",
   "language": "python",
   "name": "python3"
  },
  "language_info": {
   "codemirror_mode": {
    "name": "ipython",
    "version": 3
   },
   "file_extension": ".py",
   "mimetype": "text/x-python",
   "name": "python",
   "nbconvert_exporter": "python",
   "pygments_lexer": "ipython3",
   "version": "3.10.14"
  }
 },
 "nbformat": 4,
 "nbformat_minor": 2
}
